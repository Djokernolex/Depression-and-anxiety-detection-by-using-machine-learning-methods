{
 "cells": [
  {
   "cell_type": "code",
   "execution_count": 1,
   "metadata": {},
   "outputs": [],
   "source": [
    "import numpy as np\n",
    "import pandas as pd\n",
    "import matplotlib.pyplot as plt\n",
    "import seaborn as sbn\n",
    "\n"
   ]
  },
  {
   "cell_type": "code",
   "execution_count": 2,
   "metadata": {},
   "outputs": [
    {
     "data": {
      "text/html": [
       "<div>\n",
       "<style scoped>\n",
       "    .dataframe tbody tr th:only-of-type {\n",
       "        vertical-align: middle;\n",
       "    }\n",
       "\n",
       "    .dataframe tbody tr th {\n",
       "        vertical-align: top;\n",
       "    }\n",
       "\n",
       "    .dataframe thead th {\n",
       "        text-align: right;\n",
       "    }\n",
       "</style>\n",
       "<table border=\"1\" class=\"dataframe\">\n",
       "  <thead>\n",
       "    <tr style=\"text-align: right;\">\n",
       "      <th></th>\n",
       "      <th>CİNSİYETİNİZ</th>\n",
       "      <th>YAŞ ARALIĞINIZ</th>\n",
       "      <th>SORU1</th>\n",
       "      <th>SORU2</th>\n",
       "      <th>SORU3</th>\n",
       "      <th>SORU4</th>\n",
       "      <th>SORU5</th>\n",
       "      <th>SORU6</th>\n",
       "      <th>SORU7</th>\n",
       "      <th>SORU8</th>\n",
       "      <th>...</th>\n",
       "      <th>SORULAR [Ellerde titreme]</th>\n",
       "      <th>SORULAR [Titreklik ]</th>\n",
       "      <th>SORULAR [Kontrolü kaybetme korkusu]</th>\n",
       "      <th>SORULAR [Nefes almakta güçlük çekme]</th>\n",
       "      <th>SORULAR [Ölüm Korkusu]</th>\n",
       "      <th>SORULAR [Ani korkuya kapılma]</th>\n",
       "      <th>SORULAR [Midede ağrı, hazımsızlık ya da rahatsızlık]</th>\n",
       "      <th>SORULAR [Baygınlık hissi]</th>\n",
       "      <th>SORULAR [Yüz kızarması]</th>\n",
       "      <th>SORULAR [Terleme]</th>\n",
       "    </tr>\n",
       "  </thead>\n",
       "  <tbody>\n",
       "    <tr>\n",
       "      <th>0</th>\n",
       "      <td>ERKEK</td>\n",
       "      <td>19-29</td>\n",
       "      <td>2</td>\n",
       "      <td>1</td>\n",
       "      <td>2</td>\n",
       "      <td>0</td>\n",
       "      <td>1</td>\n",
       "      <td>2</td>\n",
       "      <td>1</td>\n",
       "      <td>1</td>\n",
       "      <td>...</td>\n",
       "      <td>0</td>\n",
       "      <td>0</td>\n",
       "      <td>1</td>\n",
       "      <td>1</td>\n",
       "      <td>0</td>\n",
       "      <td>0</td>\n",
       "      <td>0</td>\n",
       "      <td>0</td>\n",
       "      <td>1</td>\n",
       "      <td>1</td>\n",
       "    </tr>\n",
       "    <tr>\n",
       "      <th>1</th>\n",
       "      <td>BELİRTMEK İSTEMİYORUM</td>\n",
       "      <td>19-29</td>\n",
       "      <td>2</td>\n",
       "      <td>0</td>\n",
       "      <td>3</td>\n",
       "      <td>1</td>\n",
       "      <td>3</td>\n",
       "      <td>1</td>\n",
       "      <td>0</td>\n",
       "      <td>0</td>\n",
       "      <td>...</td>\n",
       "      <td>0</td>\n",
       "      <td>2</td>\n",
       "      <td>0</td>\n",
       "      <td>1</td>\n",
       "      <td>1</td>\n",
       "      <td>2</td>\n",
       "      <td>3</td>\n",
       "      <td>1</td>\n",
       "      <td>2</td>\n",
       "      <td>3</td>\n",
       "    </tr>\n",
       "    <tr>\n",
       "      <th>2</th>\n",
       "      <td>KADIN</td>\n",
       "      <td>19-29</td>\n",
       "      <td>0</td>\n",
       "      <td>0</td>\n",
       "      <td>0</td>\n",
       "      <td>0</td>\n",
       "      <td>0</td>\n",
       "      <td>1</td>\n",
       "      <td>1</td>\n",
       "      <td>0</td>\n",
       "      <td>...</td>\n",
       "      <td>0</td>\n",
       "      <td>0</td>\n",
       "      <td>0</td>\n",
       "      <td>0</td>\n",
       "      <td>0</td>\n",
       "      <td>0</td>\n",
       "      <td>1</td>\n",
       "      <td>0</td>\n",
       "      <td>0</td>\n",
       "      <td>1</td>\n",
       "    </tr>\n",
       "    <tr>\n",
       "      <th>3</th>\n",
       "      <td>KADIN</td>\n",
       "      <td>42 ve üstü</td>\n",
       "      <td>0</td>\n",
       "      <td>0</td>\n",
       "      <td>0</td>\n",
       "      <td>1</td>\n",
       "      <td>1</td>\n",
       "      <td>0</td>\n",
       "      <td>1</td>\n",
       "      <td>0</td>\n",
       "      <td>...</td>\n",
       "      <td>1</td>\n",
       "      <td>0</td>\n",
       "      <td>0</td>\n",
       "      <td>1</td>\n",
       "      <td>1</td>\n",
       "      <td>0</td>\n",
       "      <td>1</td>\n",
       "      <td>1</td>\n",
       "      <td>1</td>\n",
       "      <td>2</td>\n",
       "    </tr>\n",
       "    <tr>\n",
       "      <th>4</th>\n",
       "      <td>KADIN</td>\n",
       "      <td>19-29</td>\n",
       "      <td>0</td>\n",
       "      <td>0</td>\n",
       "      <td>1</td>\n",
       "      <td>1</td>\n",
       "      <td>1</td>\n",
       "      <td>1</td>\n",
       "      <td>1</td>\n",
       "      <td>0</td>\n",
       "      <td>...</td>\n",
       "      <td>0</td>\n",
       "      <td>0</td>\n",
       "      <td>2</td>\n",
       "      <td>1</td>\n",
       "      <td>2</td>\n",
       "      <td>1</td>\n",
       "      <td>1</td>\n",
       "      <td>0</td>\n",
       "      <td>0</td>\n",
       "      <td>0</td>\n",
       "    </tr>\n",
       "    <tr>\n",
       "      <th>5</th>\n",
       "      <td>KADIN</td>\n",
       "      <td>19-29</td>\n",
       "      <td>0</td>\n",
       "      <td>0</td>\n",
       "      <td>0</td>\n",
       "      <td>1</td>\n",
       "      <td>1</td>\n",
       "      <td>0</td>\n",
       "      <td>0</td>\n",
       "      <td>1</td>\n",
       "      <td>...</td>\n",
       "      <td>1</td>\n",
       "      <td>1</td>\n",
       "      <td>3</td>\n",
       "      <td>3</td>\n",
       "      <td>0</td>\n",
       "      <td>1</td>\n",
       "      <td>1</td>\n",
       "      <td>1</td>\n",
       "      <td>1</td>\n",
       "      <td>0</td>\n",
       "    </tr>\n",
       "    <tr>\n",
       "      <th>6</th>\n",
       "      <td>ERKEK</td>\n",
       "      <td>19-29</td>\n",
       "      <td>2</td>\n",
       "      <td>3</td>\n",
       "      <td>2</td>\n",
       "      <td>2</td>\n",
       "      <td>1</td>\n",
       "      <td>1</td>\n",
       "      <td>1</td>\n",
       "      <td>2</td>\n",
       "      <td>...</td>\n",
       "      <td>1</td>\n",
       "      <td>0</td>\n",
       "      <td>2</td>\n",
       "      <td>0</td>\n",
       "      <td>1</td>\n",
       "      <td>0</td>\n",
       "      <td>0</td>\n",
       "      <td>2</td>\n",
       "      <td>1</td>\n",
       "      <td>0</td>\n",
       "    </tr>\n",
       "    <tr>\n",
       "      <th>7</th>\n",
       "      <td>ERKEK</td>\n",
       "      <td>19-29</td>\n",
       "      <td>1</td>\n",
       "      <td>1</td>\n",
       "      <td>0</td>\n",
       "      <td>0</td>\n",
       "      <td>0</td>\n",
       "      <td>1</td>\n",
       "      <td>0</td>\n",
       "      <td>0</td>\n",
       "      <td>...</td>\n",
       "      <td>0</td>\n",
       "      <td>0</td>\n",
       "      <td>1</td>\n",
       "      <td>0</td>\n",
       "      <td>3</td>\n",
       "      <td>3</td>\n",
       "      <td>1</td>\n",
       "      <td>0</td>\n",
       "      <td>0</td>\n",
       "      <td>0</td>\n",
       "    </tr>\n",
       "    <tr>\n",
       "      <th>8</th>\n",
       "      <td>ERKEK</td>\n",
       "      <td>30-41</td>\n",
       "      <td>1</td>\n",
       "      <td>1</td>\n",
       "      <td>1</td>\n",
       "      <td>1</td>\n",
       "      <td>0</td>\n",
       "      <td>1</td>\n",
       "      <td>0</td>\n",
       "      <td>0</td>\n",
       "      <td>...</td>\n",
       "      <td>3</td>\n",
       "      <td>1</td>\n",
       "      <td>2</td>\n",
       "      <td>3</td>\n",
       "      <td>0</td>\n",
       "      <td>1</td>\n",
       "      <td>3</td>\n",
       "      <td>1</td>\n",
       "      <td>3</td>\n",
       "      <td>3</td>\n",
       "    </tr>\n",
       "    <tr>\n",
       "      <th>9</th>\n",
       "      <td>KADIN</td>\n",
       "      <td>18 ve altı</td>\n",
       "      <td>3</td>\n",
       "      <td>1</td>\n",
       "      <td>3</td>\n",
       "      <td>3</td>\n",
       "      <td>0</td>\n",
       "      <td>3</td>\n",
       "      <td>2</td>\n",
       "      <td>1</td>\n",
       "      <td>...</td>\n",
       "      <td>2</td>\n",
       "      <td>2</td>\n",
       "      <td>2</td>\n",
       "      <td>3</td>\n",
       "      <td>3</td>\n",
       "      <td>2</td>\n",
       "      <td>0</td>\n",
       "      <td>0</td>\n",
       "      <td>1</td>\n",
       "      <td>0</td>\n",
       "    </tr>\n",
       "  </tbody>\n",
       "</table>\n",
       "<p>10 rows × 45 columns</p>\n",
       "</div>"
      ],
      "text/plain": [
       "            CİNSİYETİNİZ YAŞ ARALIĞINIZ  SORU1  SORU2  SORU3  SORU4  SORU5  \\\n",
       "0                  ERKEK          19-29      2      1      2      0      1   \n",
       "1  BELİRTMEK İSTEMİYORUM          19-29      2      0      3      1      3   \n",
       "2                  KADIN          19-29      0      0      0      0      0   \n",
       "3                  KADIN     42 ve üstü      0      0      0      1      1   \n",
       "4                  KADIN          19-29      0      0      1      1      1   \n",
       "5                  KADIN          19-29      0      0      0      1      1   \n",
       "6                  ERKEK          19-29      2      3      2      2      1   \n",
       "7                  ERKEK          19-29      1      1      0      0      0   \n",
       "8                  ERKEK          30-41      1      1      1      1      0   \n",
       "9                  KADIN     18 ve altı      3      1      3      3      0   \n",
       "\n",
       "   SORU6  SORU7  SORU8  ...  SORULAR [Ellerde titreme]  SORULAR [Titreklik ]  \\\n",
       "0      2      1      1  ...                          0                     0   \n",
       "1      1      0      0  ...                          0                     2   \n",
       "2      1      1      0  ...                          0                     0   \n",
       "3      0      1      0  ...                          1                     0   \n",
       "4      1      1      0  ...                          0                     0   \n",
       "5      0      0      1  ...                          1                     1   \n",
       "6      1      1      2  ...                          1                     0   \n",
       "7      1      0      0  ...                          0                     0   \n",
       "8      1      0      0  ...                          3                     1   \n",
       "9      3      2      1  ...                          2                     2   \n",
       "\n",
       "   SORULAR [Kontrolü kaybetme korkusu]  SORULAR [Nefes almakta güçlük çekme]  \\\n",
       "0                                    1                                     1   \n",
       "1                                    0                                     1   \n",
       "2                                    0                                     0   \n",
       "3                                    0                                     1   \n",
       "4                                    2                                     1   \n",
       "5                                    3                                     3   \n",
       "6                                    2                                     0   \n",
       "7                                    1                                     0   \n",
       "8                                    2                                     3   \n",
       "9                                    2                                     3   \n",
       "\n",
       "   SORULAR [Ölüm Korkusu]  SORULAR [Ani korkuya kapılma]  \\\n",
       "0                       0                              0   \n",
       "1                       1                              2   \n",
       "2                       0                              0   \n",
       "3                       1                              0   \n",
       "4                       2                              1   \n",
       "5                       0                              1   \n",
       "6                       1                              0   \n",
       "7                       3                              3   \n",
       "8                       0                              1   \n",
       "9                       3                              2   \n",
       "\n",
       "   SORULAR [Midede ağrı, hazımsızlık ya da rahatsızlık]  \\\n",
       "0                                                  0      \n",
       "1                                                  3      \n",
       "2                                                  1      \n",
       "3                                                  1      \n",
       "4                                                  1      \n",
       "5                                                  1      \n",
       "6                                                  0      \n",
       "7                                                  1      \n",
       "8                                                  3      \n",
       "9                                                  0      \n",
       "\n",
       "   SORULAR [Baygınlık hissi]  SORULAR [Yüz kızarması]  SORULAR [Terleme]  \n",
       "0                          0                        1                  1  \n",
       "1                          1                        2                  3  \n",
       "2                          0                        0                  1  \n",
       "3                          1                        1                  2  \n",
       "4                          0                        0                  0  \n",
       "5                          1                        1                  0  \n",
       "6                          2                        1                  0  \n",
       "7                          0                        0                  0  \n",
       "8                          1                        3                  3  \n",
       "9                          0                        1                  0  \n",
       "\n",
       "[10 rows x 45 columns]"
      ]
     },
     "execution_count": 2,
     "metadata": {},
     "output_type": "execute_result"
    }
   ],
   "source": [
    "data= pd.read_excel(\"data_.xlsx\")\n",
    "df = pd.DataFrame(data)\n",
    "df.drop([\"Zaman damgası\",\"E-posta Adresi\",\"Puan\"],axis = 1, inplace = True)\n",
    "\n",
    "df.head(10)\n",
    "\n",
    "\n"
   ]
  },
  {
   "cell_type": "code",
   "execution_count": 3,
   "metadata": {},
   "outputs": [
    {
     "data": {
      "text/html": [
       "<div>\n",
       "<style scoped>\n",
       "    .dataframe tbody tr th:only-of-type {\n",
       "        vertical-align: middle;\n",
       "    }\n",
       "\n",
       "    .dataframe tbody tr th {\n",
       "        vertical-align: top;\n",
       "    }\n",
       "\n",
       "    .dataframe thead th {\n",
       "        text-align: right;\n",
       "    }\n",
       "</style>\n",
       "<table border=\"1\" class=\"dataframe\">\n",
       "  <thead>\n",
       "    <tr style=\"text-align: right;\">\n",
       "      <th></th>\n",
       "      <th>CİNSİYETİNİZ</th>\n",
       "      <th>YAŞ ARALIĞINIZ</th>\n",
       "    </tr>\n",
       "  </thead>\n",
       "  <tbody>\n",
       "    <tr>\n",
       "      <th>0</th>\n",
       "      <td>ERKEK</td>\n",
       "      <td>19-29</td>\n",
       "    </tr>\n",
       "    <tr>\n",
       "      <th>1</th>\n",
       "      <td>BELİRTMEK İSTEMİYORUM</td>\n",
       "      <td>19-29</td>\n",
       "    </tr>\n",
       "    <tr>\n",
       "      <th>2</th>\n",
       "      <td>KADIN</td>\n",
       "      <td>19-29</td>\n",
       "    </tr>\n",
       "    <tr>\n",
       "      <th>3</th>\n",
       "      <td>KADIN</td>\n",
       "      <td>42 ve üstü</td>\n",
       "    </tr>\n",
       "    <tr>\n",
       "      <th>4</th>\n",
       "      <td>KADIN</td>\n",
       "      <td>19-29</td>\n",
       "    </tr>\n",
       "  </tbody>\n",
       "</table>\n",
       "</div>"
      ],
      "text/plain": [
       "            CİNSİYETİNİZ YAŞ ARALIĞINIZ\n",
       "0                  ERKEK          19-29\n",
       "1  BELİRTMEK İSTEMİYORUM          19-29\n",
       "2                  KADIN          19-29\n",
       "3                  KADIN     42 ve üstü\n",
       "4                  KADIN          19-29"
      ]
     },
     "execution_count": 3,
     "metadata": {},
     "output_type": "execute_result"
    }
   ],
   "source": [
    "others = df.iloc[:,0:2]\n",
    "others.describe()\n",
    "others.head()\n",
    "\n",
    "\n",
    "                                                                 \n"
   ]
  },
  {
   "cell_type": "code",
   "execution_count": 4,
   "metadata": {
    "scrolled": true
   },
   "outputs": [
    {
     "data": {
      "text/html": [
       "<div>\n",
       "<style scoped>\n",
       "    .dataframe tbody tr th:only-of-type {\n",
       "        vertical-align: middle;\n",
       "    }\n",
       "\n",
       "    .dataframe tbody tr th {\n",
       "        vertical-align: top;\n",
       "    }\n",
       "\n",
       "    .dataframe thead th {\n",
       "        text-align: right;\n",
       "    }\n",
       "</style>\n",
       "<table border=\"1\" class=\"dataframe\">\n",
       "  <thead>\n",
       "    <tr style=\"text-align: right;\">\n",
       "      <th></th>\n",
       "      <th>SORU1</th>\n",
       "      <th>SORU2</th>\n",
       "      <th>SORU3</th>\n",
       "      <th>SORU4</th>\n",
       "      <th>SORU5</th>\n",
       "      <th>SORU6</th>\n",
       "      <th>SORU7</th>\n",
       "      <th>SORU8</th>\n",
       "      <th>SORU9</th>\n",
       "      <th>SORU10</th>\n",
       "      <th>...</th>\n",
       "      <th>SORU14</th>\n",
       "      <th>SORU15</th>\n",
       "      <th>SORU16</th>\n",
       "      <th>SORU17</th>\n",
       "      <th>SORU18</th>\n",
       "      <th>SORU19</th>\n",
       "      <th>SORU20</th>\n",
       "      <th>SORU21</th>\n",
       "      <th>SORU22</th>\n",
       "      <th>DEPRESYON SKORU</th>\n",
       "    </tr>\n",
       "  </thead>\n",
       "  <tbody>\n",
       "    <tr>\n",
       "      <th>count</th>\n",
       "      <td>78.000000</td>\n",
       "      <td>78.000000</td>\n",
       "      <td>78.000000</td>\n",
       "      <td>78.000000</td>\n",
       "      <td>78.000000</td>\n",
       "      <td>78.000000</td>\n",
       "      <td>78.000000</td>\n",
       "      <td>78.000000</td>\n",
       "      <td>78.000000</td>\n",
       "      <td>78.000000</td>\n",
       "      <td>...</td>\n",
       "      <td>78.000000</td>\n",
       "      <td>78.000000</td>\n",
       "      <td>78.000000</td>\n",
       "      <td>78.000000</td>\n",
       "      <td>78.000000</td>\n",
       "      <td>78.000000</td>\n",
       "      <td>78.000000</td>\n",
       "      <td>78.000000</td>\n",
       "      <td>78.000000</td>\n",
       "      <td>78.000000</td>\n",
       "    </tr>\n",
       "    <tr>\n",
       "      <th>mean</th>\n",
       "      <td>1.320513</td>\n",
       "      <td>1.371795</td>\n",
       "      <td>1.089744</td>\n",
       "      <td>1.166667</td>\n",
       "      <td>1.012821</td>\n",
       "      <td>1.243590</td>\n",
       "      <td>1.102564</td>\n",
       "      <td>0.756410</td>\n",
       "      <td>1.051282</td>\n",
       "      <td>1.512821</td>\n",
       "      <td>...</td>\n",
       "      <td>1.038462</td>\n",
       "      <td>1.384615</td>\n",
       "      <td>0.948718</td>\n",
       "      <td>1.205128</td>\n",
       "      <td>1.076923</td>\n",
       "      <td>0.743590</td>\n",
       "      <td>0.858974</td>\n",
       "      <td>0.782051</td>\n",
       "      <td>1.115385</td>\n",
       "      <td>24.641026</td>\n",
       "    </tr>\n",
       "    <tr>\n",
       "      <th>std</th>\n",
       "      <td>1.050585</td>\n",
       "      <td>1.152174</td>\n",
       "      <td>1.130290</td>\n",
       "      <td>0.945484</td>\n",
       "      <td>0.932718</td>\n",
       "      <td>0.928424</td>\n",
       "      <td>0.920047</td>\n",
       "      <td>0.955991</td>\n",
       "      <td>0.895841</td>\n",
       "      <td>1.065925</td>\n",
       "      <td>...</td>\n",
       "      <td>1.012164</td>\n",
       "      <td>0.996497</td>\n",
       "      <td>0.938325</td>\n",
       "      <td>1.209905</td>\n",
       "      <td>0.977264</td>\n",
       "      <td>0.945748</td>\n",
       "      <td>1.089792</td>\n",
       "      <td>1.027510</td>\n",
       "      <td>1.139387</td>\n",
       "      <td>11.742889</td>\n",
       "    </tr>\n",
       "    <tr>\n",
       "      <th>min</th>\n",
       "      <td>0.000000</td>\n",
       "      <td>0.000000</td>\n",
       "      <td>0.000000</td>\n",
       "      <td>0.000000</td>\n",
       "      <td>0.000000</td>\n",
       "      <td>0.000000</td>\n",
       "      <td>0.000000</td>\n",
       "      <td>0.000000</td>\n",
       "      <td>0.000000</td>\n",
       "      <td>0.000000</td>\n",
       "      <td>...</td>\n",
       "      <td>0.000000</td>\n",
       "      <td>0.000000</td>\n",
       "      <td>0.000000</td>\n",
       "      <td>0.000000</td>\n",
       "      <td>0.000000</td>\n",
       "      <td>0.000000</td>\n",
       "      <td>0.000000</td>\n",
       "      <td>0.000000</td>\n",
       "      <td>0.000000</td>\n",
       "      <td>0.000000</td>\n",
       "    </tr>\n",
       "    <tr>\n",
       "      <th>25%</th>\n",
       "      <td>0.000000</td>\n",
       "      <td>0.000000</td>\n",
       "      <td>0.000000</td>\n",
       "      <td>0.250000</td>\n",
       "      <td>0.000000</td>\n",
       "      <td>1.000000</td>\n",
       "      <td>0.000000</td>\n",
       "      <td>0.000000</td>\n",
       "      <td>0.000000</td>\n",
       "      <td>1.000000</td>\n",
       "      <td>...</td>\n",
       "      <td>0.000000</td>\n",
       "      <td>1.000000</td>\n",
       "      <td>0.000000</td>\n",
       "      <td>0.000000</td>\n",
       "      <td>0.000000</td>\n",
       "      <td>0.000000</td>\n",
       "      <td>0.000000</td>\n",
       "      <td>0.000000</td>\n",
       "      <td>0.000000</td>\n",
       "      <td>15.000000</td>\n",
       "    </tr>\n",
       "    <tr>\n",
       "      <th>50%</th>\n",
       "      <td>1.000000</td>\n",
       "      <td>1.000000</td>\n",
       "      <td>1.000000</td>\n",
       "      <td>1.000000</td>\n",
       "      <td>1.000000</td>\n",
       "      <td>1.000000</td>\n",
       "      <td>1.000000</td>\n",
       "      <td>0.000000</td>\n",
       "      <td>1.000000</td>\n",
       "      <td>1.000000</td>\n",
       "      <td>...</td>\n",
       "      <td>1.000000</td>\n",
       "      <td>1.000000</td>\n",
       "      <td>1.000000</td>\n",
       "      <td>1.000000</td>\n",
       "      <td>1.000000</td>\n",
       "      <td>0.000000</td>\n",
       "      <td>0.000000</td>\n",
       "      <td>0.000000</td>\n",
       "      <td>1.000000</td>\n",
       "      <td>23.000000</td>\n",
       "    </tr>\n",
       "    <tr>\n",
       "      <th>75%</th>\n",
       "      <td>2.000000</td>\n",
       "      <td>2.000000</td>\n",
       "      <td>2.000000</td>\n",
       "      <td>2.000000</td>\n",
       "      <td>2.000000</td>\n",
       "      <td>2.000000</td>\n",
       "      <td>2.000000</td>\n",
       "      <td>1.000000</td>\n",
       "      <td>2.000000</td>\n",
       "      <td>2.750000</td>\n",
       "      <td>...</td>\n",
       "      <td>2.000000</td>\n",
       "      <td>2.000000</td>\n",
       "      <td>2.000000</td>\n",
       "      <td>2.750000</td>\n",
       "      <td>1.750000</td>\n",
       "      <td>1.000000</td>\n",
       "      <td>1.000000</td>\n",
       "      <td>1.000000</td>\n",
       "      <td>2.000000</td>\n",
       "      <td>35.000000</td>\n",
       "    </tr>\n",
       "    <tr>\n",
       "      <th>max</th>\n",
       "      <td>3.000000</td>\n",
       "      <td>3.000000</td>\n",
       "      <td>3.000000</td>\n",
       "      <td>3.000000</td>\n",
       "      <td>3.000000</td>\n",
       "      <td>3.000000</td>\n",
       "      <td>3.000000</td>\n",
       "      <td>3.000000</td>\n",
       "      <td>3.000000</td>\n",
       "      <td>3.000000</td>\n",
       "      <td>...</td>\n",
       "      <td>3.000000</td>\n",
       "      <td>3.000000</td>\n",
       "      <td>3.000000</td>\n",
       "      <td>3.000000</td>\n",
       "      <td>3.000000</td>\n",
       "      <td>3.000000</td>\n",
       "      <td>3.000000</td>\n",
       "      <td>3.000000</td>\n",
       "      <td>3.000000</td>\n",
       "      <td>44.000000</td>\n",
       "    </tr>\n",
       "  </tbody>\n",
       "</table>\n",
       "<p>8 rows × 23 columns</p>\n",
       "</div>"
      ],
      "text/plain": [
       "           SORU1      SORU2      SORU3      SORU4      SORU5      SORU6  \\\n",
       "count  78.000000  78.000000  78.000000  78.000000  78.000000  78.000000   \n",
       "mean    1.320513   1.371795   1.089744   1.166667   1.012821   1.243590   \n",
       "std     1.050585   1.152174   1.130290   0.945484   0.932718   0.928424   \n",
       "min     0.000000   0.000000   0.000000   0.000000   0.000000   0.000000   \n",
       "25%     0.000000   0.000000   0.000000   0.250000   0.000000   1.000000   \n",
       "50%     1.000000   1.000000   1.000000   1.000000   1.000000   1.000000   \n",
       "75%     2.000000   2.000000   2.000000   2.000000   2.000000   2.000000   \n",
       "max     3.000000   3.000000   3.000000   3.000000   3.000000   3.000000   \n",
       "\n",
       "           SORU7      SORU8      SORU9     SORU10  ...     SORU14     SORU15  \\\n",
       "count  78.000000  78.000000  78.000000  78.000000  ...  78.000000  78.000000   \n",
       "mean    1.102564   0.756410   1.051282   1.512821  ...   1.038462   1.384615   \n",
       "std     0.920047   0.955991   0.895841   1.065925  ...   1.012164   0.996497   \n",
       "min     0.000000   0.000000   0.000000   0.000000  ...   0.000000   0.000000   \n",
       "25%     0.000000   0.000000   0.000000   1.000000  ...   0.000000   1.000000   \n",
       "50%     1.000000   0.000000   1.000000   1.000000  ...   1.000000   1.000000   \n",
       "75%     2.000000   1.000000   2.000000   2.750000  ...   2.000000   2.000000   \n",
       "max     3.000000   3.000000   3.000000   3.000000  ...   3.000000   3.000000   \n",
       "\n",
       "          SORU16     SORU17     SORU18     SORU19     SORU20     SORU21  \\\n",
       "count  78.000000  78.000000  78.000000  78.000000  78.000000  78.000000   \n",
       "mean    0.948718   1.205128   1.076923   0.743590   0.858974   0.782051   \n",
       "std     0.938325   1.209905   0.977264   0.945748   1.089792   1.027510   \n",
       "min     0.000000   0.000000   0.000000   0.000000   0.000000   0.000000   \n",
       "25%     0.000000   0.000000   0.000000   0.000000   0.000000   0.000000   \n",
       "50%     1.000000   1.000000   1.000000   0.000000   0.000000   0.000000   \n",
       "75%     2.000000   2.750000   1.750000   1.000000   1.000000   1.000000   \n",
       "max     3.000000   3.000000   3.000000   3.000000   3.000000   3.000000   \n",
       "\n",
       "          SORU22  DEPRESYON SKORU  \n",
       "count  78.000000        78.000000  \n",
       "mean    1.115385        24.641026  \n",
       "std     1.139387        11.742889  \n",
       "min     0.000000         0.000000  \n",
       "25%     0.000000        15.000000  \n",
       "50%     1.000000        23.000000  \n",
       "75%     2.000000        35.000000  \n",
       "max     3.000000        44.000000  \n",
       "\n",
       "[8 rows x 23 columns]"
      ]
     },
     "execution_count": 4,
     "metadata": {},
     "output_type": "execute_result"
    }
   ],
   "source": [
    "depression_test = df.iloc[:,2:24]\n",
    "depression_test.head()\n",
    "depression_test[\"DEPRESYON SKORU\"] = depression_test.sum(axis = 1)\n",
    "depression_test.describe()"
   ]
  },
  {
   "cell_type": "code",
   "execution_count": 5,
   "metadata": {},
   "outputs": [
    {
     "data": {
      "image/png": "[encoded data removed]",
      "text/plain": [
       "<Figure size 1080x432 with 1 Axes>"
      ]
     },
     "metadata": {
      "needs_background": "light"
     },
     "output_type": "display_data"
    }
   ],
   "source": [
    "normal = depression_test[\"DEPRESYON SKORU\"][(depression_test[\"DEPRESYON SKORU\"] >= 1) & (depression_test[\"DEPRESYON SKORU\"] <= 10)]\n",
    "hafif_duzey = depression_test[\"DEPRESYON SKORU\"][(depression_test[\"DEPRESYON SKORU\"] >= 11) & (depression_test[\"DEPRESYON SKORU\"]<= 16)]\n",
    "limit_klinik =  depression_test[\"DEPRESYON SKORU\"][(depression_test[\"DEPRESYON SKORU\"]>= 17) & (depression_test[\"DEPRESYON SKORU\"]<= 20)]\n",
    "orta_derecede = depression_test[\"DEPRESYON SKORU\"][(depression_test[\"DEPRESYON SKORU\"] >= 21) & (depression_test[\"DEPRESYON SKORU\"] <= 30)]\n",
    "Ciddi_duzeyde = depression_test[\"DEPRESYON SKORU\"][(depression_test[\"DEPRESYON SKORU\"] >= 31) & (depression_test[\"DEPRESYON SKORU\"]<= 40)]\n",
    "Cok_siddetli = depression_test[\"DEPRESYON SKORU\"][(depression_test[\"DEPRESYON SKORU\"] > 40)]\n",
    "\n",
    "aix  = [\"normal\",\"hafif_duzey\",\"limit_klinik\",\"orta_derecede\",\"Ciddi_duzeyde\",\"Cok_siddetli\"]\n",
    "aiy = [len(normal.values),len(hafif_duzey.values),len(orta_derecede.values),len(Ciddi_duzeyde.values),len(orta_derecede.values),len(Cok_siddetli.values)]\n",
    "plt.figure(figsize=(15,6))\n",
    "sbn.barplot(x=aix, y = aiy , palette = \"mako\")\n",
    "plt.title(\"Depresyon çeşitlerinin dağılımı\")\n",
    "plt.xlabel(\"Depresyon durumu\")\n",
    "plt.ylabel(\"Bu kisilerin sayisi\")\n",
    "plt.show()"
   ]
  },
  {
   "cell_type": "code",
   "execution_count": 6,
   "metadata": {},
   "outputs": [
    {
     "data": {
      "text/plain": [
       "([<matplotlib.patches.Wedge at 0x208d97a9d88>,\n",
       "  <matplotlib.patches.Wedge at 0x208d97b5588>,\n",
       "  <matplotlib.patches.Wedge at 0x208d97b5e08>,\n",
       "  <matplotlib.patches.Wedge at 0x208d97bd7c8>,\n",
       "  <matplotlib.patches.Wedge at 0x208d97c6348>,\n",
       "  <matplotlib.patches.Wedge at 0x208d97c6d48>],\n",
       " [Text(1.085608379971051, 0.1773540113350427, 'normal'),\n",
       "  Text(0.6778513261673224, 0.8663241769760339, 'hafif_duzey'),\n",
       "  Text(-0.7325066871158188, 0.8206302171688586, 'limit_klinik'),\n",
       "  Text(-1.0309274212402675, -0.38365173287096244, 'orta_derecede'),\n",
       "  Text(-0.0178125569522349, -1.0998557690964863, 'Ciddi_duzeyde'),\n",
       "  Text(1.017963264897194, -0.4168342492164548, 'Cok_siddetli')],\n",
       " [Text(0.5921500254387551, 0.096738551637296, '5.15%'),\n",
       "  Text(0.3697370870003576, 0.47254046016874574, '18.56%'),\n",
       "  Text(-0.39954910206317384, 0.44761648209210464, '25.77%'),\n",
       "  Text(-0.5623240479492367, -0.2092645815659795, '12.37%'),\n",
       "  Text(-0.00971594015576449, -0.5999213285980834, '25.77%'),\n",
       "  Text(0.555252689943924, -0.22736413593624805, '12.37%')])"
      ]
     },
     "execution_count": 6,
     "metadata": {},
     "output_type": "execute_result"
    },
    {
     "data": {
      "image/png": "[encoded data removed]",
      "text/plain": [
       "<Figure size 432x288 with 1 Axes>"
      ]
     },
     "metadata": {},
     "output_type": "display_data"
    }
   ],
   "source": [
    "plt.pie(aiy,labels = aix,autopct='%1.2f%%')"
   ]
  },
  {
   "cell_type": "code",
   "execution_count": 7,
   "metadata": {},
   "outputs": [
    {
     "data": {
      "text/html": [
       "<div>\n",
       "<style scoped>\n",
       "    .dataframe tbody tr th:only-of-type {\n",
       "        vertical-align: middle;\n",
       "    }\n",
       "\n",
       "    .dataframe tbody tr th {\n",
       "        vertical-align: top;\n",
       "    }\n",
       "\n",
       "    .dataframe thead th {\n",
       "        text-align: right;\n",
       "    }\n",
       "</style>\n",
       "<table border=\"1\" class=\"dataframe\">\n",
       "  <thead>\n",
       "    <tr style=\"text-align: right;\">\n",
       "      <th></th>\n",
       "      <th>CİNSİYETİNİZ</th>\n",
       "      <th>YAŞ ARALIĞINIZ</th>\n",
       "      <th>DEPRESYON SKORU</th>\n",
       "    </tr>\n",
       "  </thead>\n",
       "  <tbody>\n",
       "    <tr>\n",
       "      <th>68</th>\n",
       "      <td>KADIN</td>\n",
       "      <td>18 ve altı</td>\n",
       "      <td>42</td>\n",
       "    </tr>\n",
       "    <tr>\n",
       "      <th>69</th>\n",
       "      <td>ERKEK</td>\n",
       "      <td>19-29</td>\n",
       "      <td>7</td>\n",
       "    </tr>\n",
       "    <tr>\n",
       "      <th>70</th>\n",
       "      <td>ERKEK</td>\n",
       "      <td>42 ve üstü</td>\n",
       "      <td>26</td>\n",
       "    </tr>\n",
       "    <tr>\n",
       "      <th>71</th>\n",
       "      <td>KADIN</td>\n",
       "      <td>30-41</td>\n",
       "      <td>34</td>\n",
       "    </tr>\n",
       "    <tr>\n",
       "      <th>72</th>\n",
       "      <td>ERKEK</td>\n",
       "      <td>19-29</td>\n",
       "      <td>44</td>\n",
       "    </tr>\n",
       "    <tr>\n",
       "      <th>73</th>\n",
       "      <td>BELİRTMEK İSTEMİYORUM</td>\n",
       "      <td>19-29</td>\n",
       "      <td>29</td>\n",
       "    </tr>\n",
       "    <tr>\n",
       "      <th>74</th>\n",
       "      <td>KADIN</td>\n",
       "      <td>19-29</td>\n",
       "      <td>23</td>\n",
       "    </tr>\n",
       "    <tr>\n",
       "      <th>75</th>\n",
       "      <td>ERKEK</td>\n",
       "      <td>18 ve altı</td>\n",
       "      <td>14</td>\n",
       "    </tr>\n",
       "    <tr>\n",
       "      <th>76</th>\n",
       "      <td>ERKEK</td>\n",
       "      <td>19-29</td>\n",
       "      <td>41</td>\n",
       "    </tr>\n",
       "    <tr>\n",
       "      <th>77</th>\n",
       "      <td>KADIN</td>\n",
       "      <td>42 ve üstü</td>\n",
       "      <td>12</td>\n",
       "    </tr>\n",
       "  </tbody>\n",
       "</table>\n",
       "</div>"
      ],
      "text/plain": [
       "             CİNSİYETİNİZ YAŞ ARALIĞINIZ  DEPRESYON SKORU\n",
       "68                  KADIN     18 ve altı               42\n",
       "69                  ERKEK          19-29                7\n",
       "70                  ERKEK     42 ve üstü               26\n",
       "71                  KADIN          30-41               34\n",
       "72                  ERKEK          19-29               44\n",
       "73  BELİRTMEK İSTEMİYORUM          19-29               29\n",
       "74                  KADIN          19-29               23\n",
       "75                  ERKEK     18 ve altı               14\n",
       "76                  ERKEK          19-29               41\n",
       "77                  KADIN     42 ve üstü               12"
      ]
     },
     "execution_count": 7,
     "metadata": {},
     "output_type": "execute_result"
    }
   ],
   "source": [
    "Puan_depression = depression_test[\"DEPRESYON SKORU\"]\n",
    "Puan_depression = pd.DataFrame(Puan_depression)\n",
    "scored = pd.concat([others,Puan_depression],axis = 1)\n",
    "scored.tail(10)\n",
    "\n"
   ]
  },
  {
   "cell_type": "code",
   "execution_count": 8,
   "metadata": {},
   "outputs": [
    {
     "data": {
      "text/html": [
       "<div>\n",
       "<style scoped>\n",
       "    .dataframe tbody tr th:only-of-type {\n",
       "        vertical-align: middle;\n",
       "    }\n",
       "\n",
       "    .dataframe tbody tr th {\n",
       "        vertical-align: top;\n",
       "    }\n",
       "\n",
       "    .dataframe thead th {\n",
       "        text-align: right;\n",
       "    }\n",
       "</style>\n",
       "<table border=\"1\" class=\"dataframe\">\n",
       "  <thead>\n",
       "    <tr style=\"text-align: right;\">\n",
       "      <th></th>\n",
       "      <th>CİNSİYETİNİZ</th>\n",
       "      <th>YAŞ ARALIĞINIZ</th>\n",
       "      <th>DEPRESYON SKORU</th>\n",
       "      <th>Depresyon Düzeyi</th>\n",
       "    </tr>\n",
       "  </thead>\n",
       "  <tbody>\n",
       "    <tr>\n",
       "      <th>0</th>\n",
       "      <td>ERKEK</td>\n",
       "      <td>19-29</td>\n",
       "      <td>35</td>\n",
       "      <td>Ciddi_duzeyde</td>\n",
       "    </tr>\n",
       "    <tr>\n",
       "      <th>1</th>\n",
       "      <td>BELİRTMEK İSTEMİYORUM</td>\n",
       "      <td>19-29</td>\n",
       "      <td>27</td>\n",
       "      <td>orta_derecede</td>\n",
       "    </tr>\n",
       "    <tr>\n",
       "      <th>2</th>\n",
       "      <td>KADIN</td>\n",
       "      <td>19-29</td>\n",
       "      <td>7</td>\n",
       "      <td>normal</td>\n",
       "    </tr>\n",
       "    <tr>\n",
       "      <th>3</th>\n",
       "      <td>KADIN</td>\n",
       "      <td>42 ve üstü</td>\n",
       "      <td>22</td>\n",
       "      <td>orta_derecede</td>\n",
       "    </tr>\n",
       "    <tr>\n",
       "      <th>4</th>\n",
       "      <td>KADIN</td>\n",
       "      <td>19-29</td>\n",
       "      <td>20</td>\n",
       "      <td>limit_klinik</td>\n",
       "    </tr>\n",
       "  </tbody>\n",
       "</table>\n",
       "</div>"
      ],
      "text/plain": [
       "            CİNSİYETİNİZ YAŞ ARALIĞINIZ  DEPRESYON SKORU Depresyon Düzeyi\n",
       "0                  ERKEK          19-29               35    Ciddi_duzeyde\n",
       "1  BELİRTMEK İSTEMİYORUM          19-29               27    orta_derecede\n",
       "2                  KADIN          19-29                7           normal\n",
       "3                  KADIN     42 ve üstü               22    orta_derecede\n",
       "4                  KADIN          19-29               20     limit_klinik"
      ]
     },
     "execution_count": 8,
     "metadata": {},
     "output_type": "execute_result"
    }
   ],
   "source": [
    "\n",
    "conditions = [\n",
    "    (scored['DEPRESYON SKORU'] >= 0 ) & (scored['DEPRESYON SKORU'] <= 10),\n",
    "    (scored['DEPRESYON SKORU'] >= 11 ) & (scored['DEPRESYON SKORU'] <= 16),\n",
    "    (scored['DEPRESYON SKORU'] >= 17 ) & (scored['DEPRESYON SKORU'] <= 20),\n",
    "    (scored['DEPRESYON SKORU'] >= 21 ) & (scored['DEPRESYON SKORU'] <= 30),\n",
    "    (scored['DEPRESYON SKORU'] >= 31 ) & (scored['DEPRESYON SKORU'] <= 40),\n",
    "    (scored['DEPRESYON SKORU'] >= 41)\n",
    "    \n",
    "    ]\n",
    "\n",
    "\n",
    "values = [\"normal\",\"hafif_duzey\",\"limit_klinik\",\"orta_derecede\",\"Ciddi_duzeyde\",\"Cok_siddetli\"]\n",
    "\n",
    "\n",
    "scored['Depresyon Düzeyi'] = np.select(conditions, values)\n",
    "\n",
    "\n",
    "scored.head()\n",
    "\n",
    "\n"
   ]
  },
  {
   "cell_type": "code",
   "execution_count": 9,
   "metadata": {},
   "outputs": [
    {
     "data": {
      "text/html": [
       "<div>\n",
       "<style scoped>\n",
       "    .dataframe tbody tr th:only-of-type {\n",
       "        vertical-align: middle;\n",
       "    }\n",
       "\n",
       "    .dataframe tbody tr th {\n",
       "        vertical-align: top;\n",
       "    }\n",
       "\n",
       "    .dataframe thead th {\n",
       "        text-align: right;\n",
       "    }\n",
       "</style>\n",
       "<table border=\"1\" class=\"dataframe\">\n",
       "  <thead>\n",
       "    <tr style=\"text-align: right;\">\n",
       "      <th></th>\n",
       "      <th>SORULAR [Bedeninizde uyuşma ya da karıncalanma]</th>\n",
       "      <th>SORULAR [Sıcak ve ateş basmaları]</th>\n",
       "      <th>SORULAR [Bacaklarda titreme ya da halsizlik durumu]</th>\n",
       "      <th>SORULAR [Gevşeyememe]</th>\n",
       "      <th>SORULAR [Kötü şeyler Olacak kOrkusu]</th>\n",
       "      <th>SORULAR [Baş dönmesi ya da sersemlik hali]</th>\n",
       "      <th>SORULAR [Kalp çarpıntı]</th>\n",
       "      <th>SORULAR [Dengeyi kaybetme duygusu ya da dengenin bOzulduğu hissi]</th>\n",
       "      <th>SORULAR [Dehşete kapılma]</th>\n",
       "      <th>SORULAR [Sinirlilik ya da öfke hali]</th>\n",
       "      <th>...</th>\n",
       "      <th>SORULAR [Titreklik ]</th>\n",
       "      <th>SORULAR [Kontrolü kaybetme korkusu]</th>\n",
       "      <th>SORULAR [Nefes almakta güçlük çekme]</th>\n",
       "      <th>SORULAR [Ölüm Korkusu]</th>\n",
       "      <th>SORULAR [Ani korkuya kapılma]</th>\n",
       "      <th>SORULAR [Midede ağrı, hazımsızlık ya da rahatsızlık]</th>\n",
       "      <th>SORULAR [Baygınlık hissi]</th>\n",
       "      <th>SORULAR [Yüz kızarması]</th>\n",
       "      <th>SORULAR [Terleme]</th>\n",
       "      <th>ANKSİYETE SKORU</th>\n",
       "    </tr>\n",
       "  </thead>\n",
       "  <tbody>\n",
       "    <tr>\n",
       "      <th>70</th>\n",
       "      <td>1</td>\n",
       "      <td>1</td>\n",
       "      <td>0</td>\n",
       "      <td>1</td>\n",
       "      <td>0</td>\n",
       "      <td>0</td>\n",
       "      <td>0</td>\n",
       "      <td>0</td>\n",
       "      <td>0</td>\n",
       "      <td>1</td>\n",
       "      <td>...</td>\n",
       "      <td>0</td>\n",
       "      <td>0</td>\n",
       "      <td>0</td>\n",
       "      <td>1</td>\n",
       "      <td>0</td>\n",
       "      <td>0</td>\n",
       "      <td>0</td>\n",
       "      <td>0</td>\n",
       "      <td>0</td>\n",
       "      <td>5</td>\n",
       "    </tr>\n",
       "    <tr>\n",
       "      <th>71</th>\n",
       "      <td>2</td>\n",
       "      <td>2</td>\n",
       "      <td>2</td>\n",
       "      <td>2</td>\n",
       "      <td>2</td>\n",
       "      <td>1</td>\n",
       "      <td>0</td>\n",
       "      <td>1</td>\n",
       "      <td>1</td>\n",
       "      <td>2</td>\n",
       "      <td>...</td>\n",
       "      <td>1</td>\n",
       "      <td>0</td>\n",
       "      <td>0</td>\n",
       "      <td>1</td>\n",
       "      <td>0</td>\n",
       "      <td>0</td>\n",
       "      <td>2</td>\n",
       "      <td>0</td>\n",
       "      <td>2</td>\n",
       "      <td>21</td>\n",
       "    </tr>\n",
       "    <tr>\n",
       "      <th>72</th>\n",
       "      <td>3</td>\n",
       "      <td>2</td>\n",
       "      <td>2</td>\n",
       "      <td>3</td>\n",
       "      <td>3</td>\n",
       "      <td>1</td>\n",
       "      <td>0</td>\n",
       "      <td>3</td>\n",
       "      <td>3</td>\n",
       "      <td>2</td>\n",
       "      <td>...</td>\n",
       "      <td>3</td>\n",
       "      <td>2</td>\n",
       "      <td>1</td>\n",
       "      <td>2</td>\n",
       "      <td>2</td>\n",
       "      <td>1</td>\n",
       "      <td>2</td>\n",
       "      <td>0</td>\n",
       "      <td>3</td>\n",
       "      <td>42</td>\n",
       "    </tr>\n",
       "    <tr>\n",
       "      <th>73</th>\n",
       "      <td>1</td>\n",
       "      <td>0</td>\n",
       "      <td>2</td>\n",
       "      <td>0</td>\n",
       "      <td>0</td>\n",
       "      <td>0</td>\n",
       "      <td>0</td>\n",
       "      <td>0</td>\n",
       "      <td>0</td>\n",
       "      <td>2</td>\n",
       "      <td>...</td>\n",
       "      <td>3</td>\n",
       "      <td>1</td>\n",
       "      <td>2</td>\n",
       "      <td>0</td>\n",
       "      <td>0</td>\n",
       "      <td>3</td>\n",
       "      <td>0</td>\n",
       "      <td>0</td>\n",
       "      <td>0</td>\n",
       "      <td>15</td>\n",
       "    </tr>\n",
       "    <tr>\n",
       "      <th>74</th>\n",
       "      <td>1</td>\n",
       "      <td>1</td>\n",
       "      <td>0</td>\n",
       "      <td>2</td>\n",
       "      <td>1</td>\n",
       "      <td>0</td>\n",
       "      <td>0</td>\n",
       "      <td>1</td>\n",
       "      <td>1</td>\n",
       "      <td>1</td>\n",
       "      <td>...</td>\n",
       "      <td>0</td>\n",
       "      <td>3</td>\n",
       "      <td>0</td>\n",
       "      <td>0</td>\n",
       "      <td>0</td>\n",
       "      <td>2</td>\n",
       "      <td>0</td>\n",
       "      <td>0</td>\n",
       "      <td>0</td>\n",
       "      <td>13</td>\n",
       "    </tr>\n",
       "    <tr>\n",
       "      <th>75</th>\n",
       "      <td>3</td>\n",
       "      <td>3</td>\n",
       "      <td>0</td>\n",
       "      <td>3</td>\n",
       "      <td>0</td>\n",
       "      <td>1</td>\n",
       "      <td>0</td>\n",
       "      <td>0</td>\n",
       "      <td>1</td>\n",
       "      <td>0</td>\n",
       "      <td>...</td>\n",
       "      <td>0</td>\n",
       "      <td>1</td>\n",
       "      <td>0</td>\n",
       "      <td>3</td>\n",
       "      <td>1</td>\n",
       "      <td>0</td>\n",
       "      <td>0</td>\n",
       "      <td>3</td>\n",
       "      <td>0</td>\n",
       "      <td>19</td>\n",
       "    </tr>\n",
       "    <tr>\n",
       "      <th>76</th>\n",
       "      <td>2</td>\n",
       "      <td>1</td>\n",
       "      <td>2</td>\n",
       "      <td>3</td>\n",
       "      <td>3</td>\n",
       "      <td>1</td>\n",
       "      <td>0</td>\n",
       "      <td>2</td>\n",
       "      <td>2</td>\n",
       "      <td>1</td>\n",
       "      <td>...</td>\n",
       "      <td>0</td>\n",
       "      <td>2</td>\n",
       "      <td>1</td>\n",
       "      <td>0</td>\n",
       "      <td>2</td>\n",
       "      <td>0</td>\n",
       "      <td>0</td>\n",
       "      <td>0</td>\n",
       "      <td>0</td>\n",
       "      <td>23</td>\n",
       "    </tr>\n",
       "    <tr>\n",
       "      <th>77</th>\n",
       "      <td>0</td>\n",
       "      <td>0</td>\n",
       "      <td>0</td>\n",
       "      <td>1</td>\n",
       "      <td>1</td>\n",
       "      <td>0</td>\n",
       "      <td>0</td>\n",
       "      <td>0</td>\n",
       "      <td>0</td>\n",
       "      <td>1</td>\n",
       "      <td>...</td>\n",
       "      <td>0</td>\n",
       "      <td>0</td>\n",
       "      <td>0</td>\n",
       "      <td>0</td>\n",
       "      <td>0</td>\n",
       "      <td>0</td>\n",
       "      <td>0</td>\n",
       "      <td>1</td>\n",
       "      <td>0</td>\n",
       "      <td>4</td>\n",
       "    </tr>\n",
       "  </tbody>\n",
       "</table>\n",
       "<p>8 rows × 22 columns</p>\n",
       "</div>"
      ],
      "text/plain": [
       "    SORULAR [Bedeninizde uyuşma ya da karıncalanma]  \\\n",
       "70                                                1   \n",
       "71                                                2   \n",
       "72                                                3   \n",
       "73                                                1   \n",
       "74                                                1   \n",
       "75                                                3   \n",
       "76                                                2   \n",
       "77                                                0   \n",
       "\n",
       "    SORULAR [Sıcak ve ateş basmaları]  \\\n",
       "70                                  1   \n",
       "71                                  2   \n",
       "72                                  2   \n",
       "73                                  0   \n",
       "74                                  1   \n",
       "75                                  3   \n",
       "76                                  1   \n",
       "77                                  0   \n",
       "\n",
       "    SORULAR [Bacaklarda titreme ya da halsizlik durumu]  \\\n",
       "70                                                  0     \n",
       "71                                                  2     \n",
       "72                                                  2     \n",
       "73                                                  2     \n",
       "74                                                  0     \n",
       "75                                                  0     \n",
       "76                                                  2     \n",
       "77                                                  0     \n",
       "\n",
       "    SORULAR [Gevşeyememe]  SORULAR [Kötü şeyler Olacak kOrkusu]  \\\n",
       "70                      1                                     0   \n",
       "71                      2                                     2   \n",
       "72                      3                                     3   \n",
       "73                      0                                     0   \n",
       "74                      2                                     1   \n",
       "75                      3                                     0   \n",
       "76                      3                                     3   \n",
       "77                      1                                     1   \n",
       "\n",
       "    SORULAR [Baş dönmesi ya da sersemlik hali]  SORULAR [Kalp çarpıntı]  \\\n",
       "70                                           0                        0   \n",
       "71                                           1                        0   \n",
       "72                                           1                        0   \n",
       "73                                           0                        0   \n",
       "74                                           0                        0   \n",
       "75                                           1                        0   \n",
       "76                                           1                        0   \n",
       "77                                           0                        0   \n",
       "\n",
       "    SORULAR [Dengeyi kaybetme duygusu ya da dengenin bOzulduğu hissi]  \\\n",
       "70                                                  0                   \n",
       "71                                                  1                   \n",
       "72                                                  3                   \n",
       "73                                                  0                   \n",
       "74                                                  1                   \n",
       "75                                                  0                   \n",
       "76                                                  2                   \n",
       "77                                                  0                   \n",
       "\n",
       "    SORULAR [Dehşete kapılma]  SORULAR [Sinirlilik ya da öfke hali]  ...  \\\n",
       "70                          0                                     1  ...   \n",
       "71                          1                                     2  ...   \n",
       "72                          3                                     2  ...   \n",
       "73                          0                                     2  ...   \n",
       "74                          1                                     1  ...   \n",
       "75                          1                                     0  ...   \n",
       "76                          2                                     1  ...   \n",
       "77                          0                                     1  ...   \n",
       "\n",
       "    SORULAR [Titreklik ]  SORULAR [Kontrolü kaybetme korkusu]  \\\n",
       "70                     0                                    0   \n",
       "71                     1                                    0   \n",
       "72                     3                                    2   \n",
       "73                     3                                    1   \n",
       "74                     0                                    3   \n",
       "75                     0                                    1   \n",
       "76                     0                                    2   \n",
       "77                     0                                    0   \n",
       "\n",
       "    SORULAR [Nefes almakta güçlük çekme]  SORULAR [Ölüm Korkusu]  \\\n",
       "70                                     0                       1   \n",
       "71                                     0                       1   \n",
       "72                                     1                       2   \n",
       "73                                     2                       0   \n",
       "74                                     0                       0   \n",
       "75                                     0                       3   \n",
       "76                                     1                       0   \n",
       "77                                     0                       0   \n",
       "\n",
       "    SORULAR [Ani korkuya kapılma]  \\\n",
       "70                              0   \n",
       "71                              0   \n",
       "72                              2   \n",
       "73                              0   \n",
       "74                              0   \n",
       "75                              1   \n",
       "76                              2   \n",
       "77                              0   \n",
       "\n",
       "    SORULAR [Midede ağrı, hazımsızlık ya da rahatsızlık]  \\\n",
       "70                                                  0      \n",
       "71                                                  0      \n",
       "72                                                  1      \n",
       "73                                                  3      \n",
       "74                                                  2      \n",
       "75                                                  0      \n",
       "76                                                  0      \n",
       "77                                                  0      \n",
       "\n",
       "    SORULAR [Baygınlık hissi]  SORULAR [Yüz kızarması]  SORULAR [Terleme]  \\\n",
       "70                          0                        0                  0   \n",
       "71                          2                        0                  2   \n",
       "72                          2                        0                  3   \n",
       "73                          0                        0                  0   \n",
       "74                          0                        0                  0   \n",
       "75                          0                        3                  0   \n",
       "76                          0                        0                  0   \n",
       "77                          0                        1                  0   \n",
       "\n",
       "    ANKSİYETE SKORU  \n",
       "70                5  \n",
       "71               21  \n",
       "72               42  \n",
       "73               15  \n",
       "74               13  \n",
       "75               19  \n",
       "76               23  \n",
       "77                4  \n",
       "\n",
       "[8 rows x 22 columns]"
      ]
     },
     "execution_count": 9,
     "metadata": {},
     "output_type": "execute_result"
    }
   ],
   "source": [
    "anxiety_test = df.iloc[:,24: ]\n",
    "\n",
    "anxiety_test[\"ANKSİYETE SKORU\"] = anxiety_test.sum(axis = 1)\n",
    "anxiety_test.tail(8)\n",
    "\n"
   ]
  },
  {
   "cell_type": "code",
   "execution_count": null,
   "metadata": {},
   "outputs": [],
   "source": []
  },
  {
   "cell_type": "code",
   "execution_count": 10,
   "metadata": {},
   "outputs": [],
   "source": [
    "minimal_duzey = anxiety_test[\"ANKSİYETE SKORU\"][(anxiety_test[\"ANKSİYETE SKORU\"] >=0 ) & (anxiety_test[\"ANKSİYETE SKORU\"] <=7)]\n",
    "Hafif_duzey= anxiety_test[\"ANKSİYETE SKORU\"][(anxiety_test[\"ANKSİYETE SKORU\"] >=8 ) & (anxiety_test[\"ANKSİYETE SKORU\"] <=15)]\n",
    "orta_duzey = anxiety_test[\"ANKSİYETE SKORU\"][(anxiety_test[\"ANKSİYETE SKORU\"] >=16 ) & (anxiety_test[\"ANKSİYETE SKORU\"] <=25)]\n",
    "siddetli_duzey = anxiety_test[\"ANKSİYETE SKORU\"][(anxiety_test[\"ANKSİYETE SKORU\"] >26)]\n"
   ]
  },
  {
   "cell_type": "code",
   "execution_count": 11,
   "metadata": {},
   "outputs": [
    {
     "data": {
      "image/png": "[encoded data removed]",
      "text/plain": [
       "<Figure size 720x432 with 1 Axes>"
      ]
     },
     "metadata": {
      "needs_background": "light"
     },
     "output_type": "display_data"
    }
   ],
   "source": [
    "aix1  = [\"minimal_duzey\",\"Hafif_duzey\",\"orta_duzey\",\"siddetli_duzey\"]\n",
    "aiy2 = [len(minimal_duzey.values),len(Hafif_duzey.values),len(orta_duzey.values),len(siddetli_duzey.values)]\n",
    "plt.figure(figsize=(10,6))\n",
    "sbn.barplot(x=aix1, y = aiy2 , palette = \"mako\")\n",
    "plt.title(\"Anksiyete oranının dağılımı\")\n",
    "plt.xlabel(\"Anksiyete  durumu\")\n",
    "plt.ylabel(\"Bu kisilerin sayisi\")\n",
    "plt.show()"
   ]
  },
  {
   "cell_type": "code",
   "execution_count": 12,
   "metadata": {},
   "outputs": [
    {
     "data": {
      "image/png": "[encoded data removed]",
      "text/plain": [
       "<Figure size 432x288 with 1 Axes>"
      ]
     },
     "metadata": {},
     "output_type": "display_data"
    }
   ],
   "source": [
    "plt.pie(aiy2,labels = aix1,autopct='%1.2f%%')\n",
    "plt.show()"
   ]
  },
  {
   "cell_type": "code",
   "execution_count": 13,
   "metadata": {},
   "outputs": [
    {
     "data": {
      "text/html": [
       "<div>\n",
       "<style scoped>\n",
       "    .dataframe tbody tr th:only-of-type {\n",
       "        vertical-align: middle;\n",
       "    }\n",
       "\n",
       "    .dataframe tbody tr th {\n",
       "        vertical-align: top;\n",
       "    }\n",
       "\n",
       "    .dataframe thead th {\n",
       "        text-align: right;\n",
       "    }\n",
       "</style>\n",
       "<table border=\"1\" class=\"dataframe\">\n",
       "  <thead>\n",
       "    <tr style=\"text-align: right;\">\n",
       "      <th></th>\n",
       "      <th>CİNSİYETİNİZ</th>\n",
       "      <th>YAŞ ARALIĞINIZ</th>\n",
       "      <th>DEPRESYON SKORU</th>\n",
       "      <th>Depresyon Düzeyi</th>\n",
       "      <th>ANKSİYETE SKORU</th>\n",
       "    </tr>\n",
       "  </thead>\n",
       "  <tbody>\n",
       "    <tr>\n",
       "      <th>0</th>\n",
       "      <td>ERKEK</td>\n",
       "      <td>19-29</td>\n",
       "      <td>35</td>\n",
       "      <td>Ciddi_duzeyde</td>\n",
       "      <td>17</td>\n",
       "    </tr>\n",
       "    <tr>\n",
       "      <th>1</th>\n",
       "      <td>BELİRTMEK İSTEMİYORUM</td>\n",
       "      <td>19-29</td>\n",
       "      <td>27</td>\n",
       "      <td>orta_derecede</td>\n",
       "      <td>33</td>\n",
       "    </tr>\n",
       "    <tr>\n",
       "      <th>2</th>\n",
       "      <td>KADIN</td>\n",
       "      <td>19-29</td>\n",
       "      <td>7</td>\n",
       "      <td>normal</td>\n",
       "      <td>3</td>\n",
       "    </tr>\n",
       "    <tr>\n",
       "      <th>3</th>\n",
       "      <td>KADIN</td>\n",
       "      <td>42 ve üstü</td>\n",
       "      <td>22</td>\n",
       "      <td>orta_derecede</td>\n",
       "      <td>20</td>\n",
       "    </tr>\n",
       "    <tr>\n",
       "      <th>4</th>\n",
       "      <td>KADIN</td>\n",
       "      <td>19-29</td>\n",
       "      <td>20</td>\n",
       "      <td>limit_klinik</td>\n",
       "      <td>22</td>\n",
       "    </tr>\n",
       "  </tbody>\n",
       "</table>\n",
       "</div>"
      ],
      "text/plain": [
       "            CİNSİYETİNİZ YAŞ ARALIĞINIZ  DEPRESYON SKORU Depresyon Düzeyi  \\\n",
       "0                  ERKEK          19-29               35    Ciddi_duzeyde   \n",
       "1  BELİRTMEK İSTEMİYORUM          19-29               27    orta_derecede   \n",
       "2                  KADIN          19-29                7           normal   \n",
       "3                  KADIN     42 ve üstü               22    orta_derecede   \n",
       "4                  KADIN          19-29               20     limit_klinik   \n",
       "\n",
       "   ANKSİYETE SKORU  \n",
       "0               17  \n",
       "1               33  \n",
       "2                3  \n",
       "3               20  \n",
       "4               22  "
      ]
     },
     "execution_count": 13,
     "metadata": {},
     "output_type": "execute_result"
    }
   ],
   "source": [
    "Puan_anxiety = anxiety_test[\"ANKSİYETE SKORU\"]\n",
    "Puan_anxiety = pd.DataFrame(Puan_anxiety)\n",
    "frame = pd.concat([scored,Puan_anxiety],axis = 1)\n",
    "frame.head()\n"
   ]
  },
  {
   "cell_type": "code",
   "execution_count": 14,
   "metadata": {},
   "outputs": [
    {
     "data": {
      "text/html": [
       "<div>\n",
       "<style scoped>\n",
       "    .dataframe tbody tr th:only-of-type {\n",
       "        vertical-align: middle;\n",
       "    }\n",
       "\n",
       "    .dataframe tbody tr th {\n",
       "        vertical-align: top;\n",
       "    }\n",
       "\n",
       "    .dataframe thead th {\n",
       "        text-align: right;\n",
       "    }\n",
       "</style>\n",
       "<table border=\"1\" class=\"dataframe\">\n",
       "  <thead>\n",
       "    <tr style=\"text-align: right;\">\n",
       "      <th></th>\n",
       "      <th>CİNSİYETİNİZ</th>\n",
       "      <th>YAŞ ARALIĞINIZ</th>\n",
       "      <th>DEPRESYON SKORU</th>\n",
       "      <th>Depresyon Düzeyi</th>\n",
       "      <th>ANKSİYETE SKORU</th>\n",
       "      <th>Anksiyete Düzeyi</th>\n",
       "    </tr>\n",
       "  </thead>\n",
       "  <tbody>\n",
       "    <tr>\n",
       "      <th>0</th>\n",
       "      <td>ERKEK</td>\n",
       "      <td>19-29</td>\n",
       "      <td>35</td>\n",
       "      <td>Ciddi_duzeyde</td>\n",
       "      <td>17</td>\n",
       "      <td>orta_duzey</td>\n",
       "    </tr>\n",
       "    <tr>\n",
       "      <th>1</th>\n",
       "      <td>BELİRTMEK İSTEMİYORUM</td>\n",
       "      <td>19-29</td>\n",
       "      <td>27</td>\n",
       "      <td>orta_derecede</td>\n",
       "      <td>33</td>\n",
       "      <td>siddetli_duzey</td>\n",
       "    </tr>\n",
       "    <tr>\n",
       "      <th>2</th>\n",
       "      <td>KADIN</td>\n",
       "      <td>19-29</td>\n",
       "      <td>7</td>\n",
       "      <td>normal</td>\n",
       "      <td>3</td>\n",
       "      <td>minimal_duzey</td>\n",
       "    </tr>\n",
       "    <tr>\n",
       "      <th>3</th>\n",
       "      <td>KADIN</td>\n",
       "      <td>42 ve üstü</td>\n",
       "      <td>22</td>\n",
       "      <td>orta_derecede</td>\n",
       "      <td>20</td>\n",
       "      <td>orta_duzey</td>\n",
       "    </tr>\n",
       "    <tr>\n",
       "      <th>4</th>\n",
       "      <td>KADIN</td>\n",
       "      <td>19-29</td>\n",
       "      <td>20</td>\n",
       "      <td>limit_klinik</td>\n",
       "      <td>22</td>\n",
       "      <td>orta_duzey</td>\n",
       "    </tr>\n",
       "    <tr>\n",
       "      <th>5</th>\n",
       "      <td>KADIN</td>\n",
       "      <td>19-29</td>\n",
       "      <td>13</td>\n",
       "      <td>hafif_duzey</td>\n",
       "      <td>35</td>\n",
       "      <td>siddetli_duzey</td>\n",
       "    </tr>\n",
       "    <tr>\n",
       "      <th>6</th>\n",
       "      <td>ERKEK</td>\n",
       "      <td>19-29</td>\n",
       "      <td>35</td>\n",
       "      <td>Ciddi_duzeyde</td>\n",
       "      <td>20</td>\n",
       "      <td>orta_duzey</td>\n",
       "    </tr>\n",
       "    <tr>\n",
       "      <th>7</th>\n",
       "      <td>ERKEK</td>\n",
       "      <td>19-29</td>\n",
       "      <td>21</td>\n",
       "      <td>orta_derecede</td>\n",
       "      <td>12</td>\n",
       "      <td>Hafif_duzey</td>\n",
       "    </tr>\n",
       "    <tr>\n",
       "      <th>8</th>\n",
       "      <td>ERKEK</td>\n",
       "      <td>30-41</td>\n",
       "      <td>13</td>\n",
       "      <td>hafif_duzey</td>\n",
       "      <td>39</td>\n",
       "      <td>siddetli_duzey</td>\n",
       "    </tr>\n",
       "    <tr>\n",
       "      <th>9</th>\n",
       "      <td>KADIN</td>\n",
       "      <td>18 ve altı</td>\n",
       "      <td>40</td>\n",
       "      <td>Ciddi_duzeyde</td>\n",
       "      <td>31</td>\n",
       "      <td>siddetli_duzey</td>\n",
       "    </tr>\n",
       "    <tr>\n",
       "      <th>10</th>\n",
       "      <td>ERKEK</td>\n",
       "      <td>19-29</td>\n",
       "      <td>18</td>\n",
       "      <td>limit_klinik</td>\n",
       "      <td>13</td>\n",
       "      <td>Hafif_duzey</td>\n",
       "    </tr>\n",
       "    <tr>\n",
       "      <th>11</th>\n",
       "      <td>ERKEK</td>\n",
       "      <td>19-29</td>\n",
       "      <td>38</td>\n",
       "      <td>Ciddi_duzeyde</td>\n",
       "      <td>13</td>\n",
       "      <td>Hafif_duzey</td>\n",
       "    </tr>\n",
       "    <tr>\n",
       "      <th>12</th>\n",
       "      <td>ERKEK</td>\n",
       "      <td>19-29</td>\n",
       "      <td>21</td>\n",
       "      <td>orta_derecede</td>\n",
       "      <td>0</td>\n",
       "      <td>minimal_duzey</td>\n",
       "    </tr>\n",
       "    <tr>\n",
       "      <th>13</th>\n",
       "      <td>KADIN</td>\n",
       "      <td>19-29</td>\n",
       "      <td>30</td>\n",
       "      <td>orta_derecede</td>\n",
       "      <td>23</td>\n",
       "      <td>orta_duzey</td>\n",
       "    </tr>\n",
       "    <tr>\n",
       "      <th>14</th>\n",
       "      <td>ERKEK</td>\n",
       "      <td>19-29</td>\n",
       "      <td>37</td>\n",
       "      <td>Ciddi_duzeyde</td>\n",
       "      <td>0</td>\n",
       "      <td>minimal_duzey</td>\n",
       "    </tr>\n",
       "    <tr>\n",
       "      <th>15</th>\n",
       "      <td>KADIN</td>\n",
       "      <td>18 ve altı</td>\n",
       "      <td>42</td>\n",
       "      <td>Cok_siddetli</td>\n",
       "      <td>59</td>\n",
       "      <td>siddetli_duzey</td>\n",
       "    </tr>\n",
       "    <tr>\n",
       "      <th>16</th>\n",
       "      <td>ERKEK</td>\n",
       "      <td>19-29</td>\n",
       "      <td>13</td>\n",
       "      <td>hafif_duzey</td>\n",
       "      <td>15</td>\n",
       "      <td>Hafif_duzey</td>\n",
       "    </tr>\n",
       "    <tr>\n",
       "      <th>17</th>\n",
       "      <td>ERKEK</td>\n",
       "      <td>30-41</td>\n",
       "      <td>22</td>\n",
       "      <td>orta_derecede</td>\n",
       "      <td>14</td>\n",
       "      <td>Hafif_duzey</td>\n",
       "    </tr>\n",
       "    <tr>\n",
       "      <th>18</th>\n",
       "      <td>KADIN</td>\n",
       "      <td>18 ve altı</td>\n",
       "      <td>15</td>\n",
       "      <td>hafif_duzey</td>\n",
       "      <td>3</td>\n",
       "      <td>minimal_duzey</td>\n",
       "    </tr>\n",
       "    <tr>\n",
       "      <th>19</th>\n",
       "      <td>ERKEK</td>\n",
       "      <td>19-29</td>\n",
       "      <td>7</td>\n",
       "      <td>normal</td>\n",
       "      <td>0</td>\n",
       "      <td>minimal_duzey</td>\n",
       "    </tr>\n",
       "    <tr>\n",
       "      <th>20</th>\n",
       "      <td>ERKEK</td>\n",
       "      <td>42 ve üstü</td>\n",
       "      <td>26</td>\n",
       "      <td>orta_derecede</td>\n",
       "      <td>5</td>\n",
       "      <td>minimal_duzey</td>\n",
       "    </tr>\n",
       "    <tr>\n",
       "      <th>21</th>\n",
       "      <td>KADIN</td>\n",
       "      <td>30-41</td>\n",
       "      <td>34</td>\n",
       "      <td>Ciddi_duzeyde</td>\n",
       "      <td>21</td>\n",
       "      <td>orta_duzey</td>\n",
       "    </tr>\n",
       "    <tr>\n",
       "      <th>22</th>\n",
       "      <td>KADIN</td>\n",
       "      <td>19-29</td>\n",
       "      <td>44</td>\n",
       "      <td>Cok_siddetli</td>\n",
       "      <td>41</td>\n",
       "      <td>siddetli_duzey</td>\n",
       "    </tr>\n",
       "    <tr>\n",
       "      <th>23</th>\n",
       "      <td>ERKEK</td>\n",
       "      <td>19-29</td>\n",
       "      <td>20</td>\n",
       "      <td>limit_klinik</td>\n",
       "      <td>16</td>\n",
       "      <td>orta_duzey</td>\n",
       "    </tr>\n",
       "    <tr>\n",
       "      <th>24</th>\n",
       "      <td>ERKEK</td>\n",
       "      <td>19-29</td>\n",
       "      <td>25</td>\n",
       "      <td>orta_derecede</td>\n",
       "      <td>20</td>\n",
       "      <td>orta_duzey</td>\n",
       "    </tr>\n",
       "    <tr>\n",
       "      <th>25</th>\n",
       "      <td>KADIN</td>\n",
       "      <td>19-29</td>\n",
       "      <td>0</td>\n",
       "      <td>normal</td>\n",
       "      <td>6</td>\n",
       "      <td>minimal_duzey</td>\n",
       "    </tr>\n",
       "    <tr>\n",
       "      <th>26</th>\n",
       "      <td>BELİRTMEK İSTEMİYORUM</td>\n",
       "      <td>42 ve üstü</td>\n",
       "      <td>15</td>\n",
       "      <td>hafif_duzey</td>\n",
       "      <td>12</td>\n",
       "      <td>Hafif_duzey</td>\n",
       "    </tr>\n",
       "    <tr>\n",
       "      <th>27</th>\n",
       "      <td>ERKEK</td>\n",
       "      <td>19-29</td>\n",
       "      <td>42</td>\n",
       "      <td>Cok_siddetli</td>\n",
       "      <td>28</td>\n",
       "      <td>siddetli_duzey</td>\n",
       "    </tr>\n",
       "    <tr>\n",
       "      <th>28</th>\n",
       "      <td>ERKEK</td>\n",
       "      <td>19-29</td>\n",
       "      <td>30</td>\n",
       "      <td>orta_derecede</td>\n",
       "      <td>36</td>\n",
       "      <td>siddetli_duzey</td>\n",
       "    </tr>\n",
       "  </tbody>\n",
       "</table>\n",
       "</div>"
      ],
      "text/plain": [
       "             CİNSİYETİNİZ YAŞ ARALIĞINIZ  DEPRESYON SKORU Depresyon Düzeyi  \\\n",
       "0                   ERKEK          19-29               35    Ciddi_duzeyde   \n",
       "1   BELİRTMEK İSTEMİYORUM          19-29               27    orta_derecede   \n",
       "2                   KADIN          19-29                7           normal   \n",
       "3                   KADIN     42 ve üstü               22    orta_derecede   \n",
       "4                   KADIN          19-29               20     limit_klinik   \n",
       "5                   KADIN          19-29               13      hafif_duzey   \n",
       "6                   ERKEK          19-29               35    Ciddi_duzeyde   \n",
       "7                   ERKEK          19-29               21    orta_derecede   \n",
       "8                   ERKEK          30-41               13      hafif_duzey   \n",
       "9                   KADIN     18 ve altı               40    Ciddi_duzeyde   \n",
       "10                  ERKEK          19-29               18     limit_klinik   \n",
       "11                  ERKEK          19-29               38    Ciddi_duzeyde   \n",
       "12                  ERKEK          19-29               21    orta_derecede   \n",
       "13                  KADIN          19-29               30    orta_derecede   \n",
       "14                  ERKEK          19-29               37    Ciddi_duzeyde   \n",
       "15                  KADIN     18 ve altı               42     Cok_siddetli   \n",
       "16                  ERKEK          19-29               13      hafif_duzey   \n",
       "17                  ERKEK          30-41               22    orta_derecede   \n",
       "18                  KADIN     18 ve altı               15      hafif_duzey   \n",
       "19                  ERKEK          19-29                7           normal   \n",
       "20                  ERKEK     42 ve üstü               26    orta_derecede   \n",
       "21                  KADIN          30-41               34    Ciddi_duzeyde   \n",
       "22                  KADIN          19-29               44     Cok_siddetli   \n",
       "23                  ERKEK          19-29               20     limit_klinik   \n",
       "24                  ERKEK          19-29               25    orta_derecede   \n",
       "25                  KADIN          19-29                0           normal   \n",
       "26  BELİRTMEK İSTEMİYORUM     42 ve üstü               15      hafif_duzey   \n",
       "27                  ERKEK          19-29               42     Cok_siddetli   \n",
       "28                  ERKEK          19-29               30    orta_derecede   \n",
       "\n",
       "    ANKSİYETE SKORU Anksiyete Düzeyi  \n",
       "0                17       orta_duzey  \n",
       "1                33   siddetli_duzey  \n",
       "2                 3    minimal_duzey  \n",
       "3                20       orta_duzey  \n",
       "4                22       orta_duzey  \n",
       "5                35   siddetli_duzey  \n",
       "6                20       orta_duzey  \n",
       "7                12      Hafif_duzey  \n",
       "8                39   siddetli_duzey  \n",
       "9                31   siddetli_duzey  \n",
       "10               13      Hafif_duzey  \n",
       "11               13      Hafif_duzey  \n",
       "12                0    minimal_duzey  \n",
       "13               23       orta_duzey  \n",
       "14                0    minimal_duzey  \n",
       "15               59   siddetli_duzey  \n",
       "16               15      Hafif_duzey  \n",
       "17               14      Hafif_duzey  \n",
       "18                3    minimal_duzey  \n",
       "19                0    minimal_duzey  \n",
       "20                5    minimal_duzey  \n",
       "21               21       orta_duzey  \n",
       "22               41   siddetli_duzey  \n",
       "23               16       orta_duzey  \n",
       "24               20       orta_duzey  \n",
       "25                6    minimal_duzey  \n",
       "26               12      Hafif_duzey  \n",
       "27               28   siddetli_duzey  \n",
       "28               36   siddetli_duzey  "
      ]
     },
     "execution_count": 14,
     "metadata": {},
     "output_type": "execute_result"
    }
   ],
   "source": [
    "conditions1 = [\n",
    "    (frame['ANKSİYETE SKORU'] >= 0 ) & (frame['ANKSİYETE SKORU'] <= 7),\n",
    "    (frame['ANKSİYETE SKORU'] >=8 ) & (frame['ANKSİYETE SKORU'] <= 15),\n",
    "    (frame['ANKSİYETE SKORU'] >= 16 ) & (frame['ANKSİYETE SKORU'] <= 25),\n",
    "    (frame['ANKSİYETE SKORU'] >= 26 ) & (frame['ANKSİYETE SKORU'] <= 63)\n",
    "    \n",
    "    \n",
    "    ]\n",
    "\n",
    "\n",
    "aix1  = [\"minimal_duzey\",\"Hafif_duzey\",\"orta_duzey\",\"siddetli_duzey\"]\n",
    "\n",
    "\n",
    "frame['Anksiyete Düzeyi'] = np.select(conditions1, aix1)\n",
    "\n",
    "\n",
    "frame.head(29)"
   ]
  },
  {
   "cell_type": "code",
   "execution_count": 15,
   "metadata": {},
   "outputs": [
    {
     "data": {
      "text/html": [
       "<div>\n",
       "<style scoped>\n",
       "    .dataframe tbody tr th:only-of-type {\n",
       "        vertical-align: middle;\n",
       "    }\n",
       "\n",
       "    .dataframe tbody tr th {\n",
       "        vertical-align: top;\n",
       "    }\n",
       "\n",
       "    .dataframe thead th {\n",
       "        text-align: right;\n",
       "    }\n",
       "</style>\n",
       "<table border=\"1\" class=\"dataframe\">\n",
       "  <thead>\n",
       "    <tr style=\"text-align: right;\">\n",
       "      <th></th>\n",
       "      <th>DEPRESYON SKORU</th>\n",
       "      <th>ANKSİYETE SKORU</th>\n",
       "    </tr>\n",
       "  </thead>\n",
       "  <tbody>\n",
       "    <tr>\n",
       "      <th>count</th>\n",
       "      <td>78.000000</td>\n",
       "      <td>78.000000</td>\n",
       "    </tr>\n",
       "    <tr>\n",
       "      <th>mean</th>\n",
       "      <td>24.641026</td>\n",
       "      <td>19.179487</td>\n",
       "    </tr>\n",
       "    <tr>\n",
       "      <th>std</th>\n",
       "      <td>11.742889</td>\n",
       "      <td>14.053463</td>\n",
       "    </tr>\n",
       "    <tr>\n",
       "      <th>min</th>\n",
       "      <td>0.000000</td>\n",
       "      <td>0.000000</td>\n",
       "    </tr>\n",
       "    <tr>\n",
       "      <th>25%</th>\n",
       "      <td>15.000000</td>\n",
       "      <td>12.000000</td>\n",
       "    </tr>\n",
       "    <tr>\n",
       "      <th>50%</th>\n",
       "      <td>23.000000</td>\n",
       "      <td>17.000000</td>\n",
       "    </tr>\n",
       "    <tr>\n",
       "      <th>75%</th>\n",
       "      <td>35.000000</td>\n",
       "      <td>28.000000</td>\n",
       "    </tr>\n",
       "    <tr>\n",
       "      <th>max</th>\n",
       "      <td>44.000000</td>\n",
       "      <td>59.000000</td>\n",
       "    </tr>\n",
       "  </tbody>\n",
       "</table>\n",
       "</div>"
      ],
      "text/plain": [
       "       DEPRESYON SKORU  ANKSİYETE SKORU\n",
       "count        78.000000        78.000000\n",
       "mean         24.641026        19.179487\n",
       "std          11.742889        14.053463\n",
       "min           0.000000         0.000000\n",
       "25%          15.000000        12.000000\n",
       "50%          23.000000        17.000000\n",
       "75%          35.000000        28.000000\n",
       "max          44.000000        59.000000"
      ]
     },
     "execution_count": 15,
     "metadata": {},
     "output_type": "execute_result"
    }
   ],
   "source": [
    "frame.describe()"
   ]
  },
  {
   "cell_type": "code",
   "execution_count": 16,
   "metadata": {},
   "outputs": [
    {
     "data": {
      "text/plain": [
       "<seaborn.axisgrid.PairGrid at 0x208d98c8948>"
      ]
     },
     "execution_count": 16,
     "metadata": {},
     "output_type": "execute_result"
    },
    {
     "data": {
      "image/png": "[encoded data removed]",
      "text/plain": [
       "<Figure size 471.25x360 with 6 Axes>"
      ]
     },
     "metadata": {
      "needs_background": "light"
     },
     "output_type": "display_data"
    }
   ],
   "source": [
    "sbn.pairplot(frame, hue = \"Anksiyete Düzeyi\")"
   ]
  },
  {
   "cell_type": "code",
   "execution_count": 17,
   "metadata": {},
   "outputs": [
    {
     "data": {
      "text/plain": [
       "<seaborn.axisgrid.PairGrid at 0x208d8fd57c8>"
      ]
     },
     "execution_count": 17,
     "metadata": {},
     "output_type": "execute_result"
    },
    {
     "data": {
      "image/png": "[encoded data removed]",
      "text/plain": [
       "<Figure size 468.75x360 with 6 Axes>"
      ]
     },
     "metadata": {
      "needs_background": "light"
     },
     "output_type": "display_data"
    }
   ],
   "source": [
    "sbn.pairplot(frame, hue = \"Depresyon Düzeyi\")"
   ]
  },
  {
   "cell_type": "code",
   "execution_count": 18,
   "metadata": {},
   "outputs": [
    {
     "data": {
      "image/png": "[encoded data removed]",
      "text/plain": [
       "<Figure size 432x288 with 1 Axes>"
      ]
     },
     "metadata": {
      "needs_background": "light"
     },
     "output_type": "display_data"
    }
   ],
   "source": [
    "#sbn.relplot(x = \"DEPRESYON SKORU\", y = \"ANKSİYETE SKORU\",data = frame)\n",
    "\n",
    "plt.scatter(frame['DEPRESYON SKORU'] , frame['YAŞ ARALIĞINIZ'], color = 'green' , marker = '+')\n",
    "\n",
    "plt.xlabel(\"Depresyon Derecesi\")\n",
    "plt.ylabel(\"Yaş bilgisi\")\n",
    "\n",
    "#plt.scatter(frame['ANKSİYETE SKORU'] , frame['YAŞ ARALIĞINIZ'], color = 'orange' , marker = '.')\n",
    "\n",
    "plt.show()"
   ]
  },
  {
   "cell_type": "code",
   "execution_count": 19,
   "metadata": {},
   "outputs": [
    {
     "data": {
      "text/plain": [
       "Text(0, 0.5, 'Yaş bilgisi')"
      ]
     },
     "execution_count": 19,
     "metadata": {},
     "output_type": "execute_result"
    },
    {
     "data": {
      "image/png": "[encoded data removed]",
      "text/plain": [
       "<Figure size 432x288 with 1 Axes>"
      ]
     },
     "metadata": {
      "needs_background": "light"
     },
     "output_type": "display_data"
    }
   ],
   "source": [
    "plt.scatter(frame['ANKSİYETE SKORU'] , frame['YAŞ ARALIĞINIZ'], color = 'orange' , marker = '.')\n",
    "plt.xlabel(\"Anksiyete Derecesi\")\n",
    "plt.ylabel(\"Yaş bilgisi\")"
   ]
  },
  {
   "cell_type": "code",
   "execution_count": 20,
   "metadata": {},
   "outputs": [
    {
     "data": {
      "text/plain": [
       "Text(0, 0.5, 'CİNSİYETİNİZ')"
      ]
     },
     "execution_count": 20,
     "metadata": {},
     "output_type": "execute_result"
    },
    {
     "data": {
      "image/png": "[encoded data removed]",
      "text/plain": [
       "<Figure size 432x288 with 1 Axes>"
      ]
     },
     "metadata": {
      "needs_background": "light"
     },
     "output_type": "display_data"
    }
   ],
   "source": [
    "plt.scatter(frame['ANKSİYETE SKORU'] , frame['CİNSİYETİNİZ'], color = 'red' , marker = '.')\n",
    "plt.xlabel(\"Anksiyete Derecesi\")\n",
    "plt.ylabel(\"CİNSİYETİNİZ\")"
   ]
  },
  {
   "cell_type": "code",
   "execution_count": 21,
   "metadata": {},
   "outputs": [
    {
     "data": {
      "text/plain": [
       "Text(0, 0.5, 'CİNSİYETİNİZ')"
      ]
     },
     "execution_count": 21,
     "metadata": {},
     "output_type": "execute_result"
    },
    {
     "data": {
      "image/png": "[encoded data removed]",
      "text/plain": [
       "<Figure size 432x288 with 1 Axes>"
      ]
     },
     "metadata": {
      "needs_background": "light"
     },
     "output_type": "display_data"
    }
   ],
   "source": [
    "plt.scatter(frame['DEPRESYON SKORU'] , frame['CİNSİYETİNİZ'], color = 'black' , marker = '.')\n",
    "plt.xlabel(\"DEPRESYON Derecesi\")\n",
    "plt.ylabel(\"CİNSİYETİNİZ\")"
   ]
  },
  {
   "cell_type": "code",
   "execution_count": null,
   "metadata": {},
   "outputs": [],
   "source": []
  },
  {
   "cell_type": "code",
   "execution_count": 22,
   "metadata": {},
   "outputs": [
    {
     "data": {
      "text/html": [
       "<div>\n",
       "<style scoped>\n",
       "    .dataframe tbody tr th:only-of-type {\n",
       "        vertical-align: middle;\n",
       "    }\n",
       "\n",
       "    .dataframe tbody tr th {\n",
       "        vertical-align: top;\n",
       "    }\n",
       "\n",
       "    .dataframe thead th {\n",
       "        text-align: right;\n",
       "    }\n",
       "</style>\n",
       "<table border=\"1\" class=\"dataframe\">\n",
       "  <thead>\n",
       "    <tr style=\"text-align: right;\">\n",
       "      <th></th>\n",
       "      <th>CİNSİYETİNİZ</th>\n",
       "      <th>YAŞ ARALIĞINIZ</th>\n",
       "      <th>DEPRESYON SKORU</th>\n",
       "      <th>Depresyon Düzeyi</th>\n",
       "      <th>ANKSİYETE SKORU</th>\n",
       "      <th>Anksiyete Düzeyi</th>\n",
       "    </tr>\n",
       "  </thead>\n",
       "  <tbody>\n",
       "    <tr>\n",
       "      <th>0</th>\n",
       "      <td>1</td>\n",
       "      <td>1</td>\n",
       "      <td>35</td>\n",
       "      <td>0</td>\n",
       "      <td>17</td>\n",
       "      <td>2</td>\n",
       "    </tr>\n",
       "    <tr>\n",
       "      <th>1</th>\n",
       "      <td>0</td>\n",
       "      <td>1</td>\n",
       "      <td>27</td>\n",
       "      <td>5</td>\n",
       "      <td>33</td>\n",
       "      <td>3</td>\n",
       "    </tr>\n",
       "    <tr>\n",
       "      <th>2</th>\n",
       "      <td>2</td>\n",
       "      <td>1</td>\n",
       "      <td>7</td>\n",
       "      <td>4</td>\n",
       "      <td>3</td>\n",
       "      <td>1</td>\n",
       "    </tr>\n",
       "    <tr>\n",
       "      <th>3</th>\n",
       "      <td>2</td>\n",
       "      <td>3</td>\n",
       "      <td>22</td>\n",
       "      <td>5</td>\n",
       "      <td>20</td>\n",
       "      <td>2</td>\n",
       "    </tr>\n",
       "    <tr>\n",
       "      <th>4</th>\n",
       "      <td>2</td>\n",
       "      <td>1</td>\n",
       "      <td>20</td>\n",
       "      <td>3</td>\n",
       "      <td>22</td>\n",
       "      <td>2</td>\n",
       "    </tr>\n",
       "    <tr>\n",
       "      <th>...</th>\n",
       "      <td>...</td>\n",
       "      <td>...</td>\n",
       "      <td>...</td>\n",
       "      <td>...</td>\n",
       "      <td>...</td>\n",
       "      <td>...</td>\n",
       "    </tr>\n",
       "    <tr>\n",
       "      <th>73</th>\n",
       "      <td>0</td>\n",
       "      <td>1</td>\n",
       "      <td>29</td>\n",
       "      <td>5</td>\n",
       "      <td>15</td>\n",
       "      <td>0</td>\n",
       "    </tr>\n",
       "    <tr>\n",
       "      <th>74</th>\n",
       "      <td>2</td>\n",
       "      <td>1</td>\n",
       "      <td>23</td>\n",
       "      <td>5</td>\n",
       "      <td>13</td>\n",
       "      <td>0</td>\n",
       "    </tr>\n",
       "    <tr>\n",
       "      <th>75</th>\n",
       "      <td>1</td>\n",
       "      <td>0</td>\n",
       "      <td>14</td>\n",
       "      <td>2</td>\n",
       "      <td>19</td>\n",
       "      <td>2</td>\n",
       "    </tr>\n",
       "    <tr>\n",
       "      <th>76</th>\n",
       "      <td>1</td>\n",
       "      <td>1</td>\n",
       "      <td>41</td>\n",
       "      <td>1</td>\n",
       "      <td>23</td>\n",
       "      <td>2</td>\n",
       "    </tr>\n",
       "    <tr>\n",
       "      <th>77</th>\n",
       "      <td>2</td>\n",
       "      <td>3</td>\n",
       "      <td>12</td>\n",
       "      <td>2</td>\n",
       "      <td>4</td>\n",
       "      <td>1</td>\n",
       "    </tr>\n",
       "  </tbody>\n",
       "</table>\n",
       "<p>78 rows × 6 columns</p>\n",
       "</div>"
      ],
      "text/plain": [
       "    CİNSİYETİNİZ  YAŞ ARALIĞINIZ  DEPRESYON SKORU  Depresyon Düzeyi  \\\n",
       "0              1               1               35                 0   \n",
       "1              0               1               27                 5   \n",
       "2              2               1                7                 4   \n",
       "3              2               3               22                 5   \n",
       "4              2               1               20                 3   \n",
       "..           ...             ...              ...               ...   \n",
       "73             0               1               29                 5   \n",
       "74             2               1               23                 5   \n",
       "75             1               0               14                 2   \n",
       "76             1               1               41                 1   \n",
       "77             2               3               12                 2   \n",
       "\n",
       "    ANKSİYETE SKORU  Anksiyete Düzeyi  \n",
       "0                17                 2  \n",
       "1                33                 3  \n",
       "2                 3                 1  \n",
       "3                20                 2  \n",
       "4                22                 2  \n",
       "..              ...               ...  \n",
       "73               15                 0  \n",
       "74               13                 0  \n",
       "75               19                 2  \n",
       "76               23                 2  \n",
       "77                4                 1  \n",
       "\n",
       "[78 rows x 6 columns]"
      ]
     },
     "execution_count": 22,
     "metadata": {},
     "output_type": "execute_result"
    }
   ],
   "source": [
    "from sklearn.preprocessing import LabelEncoder\n",
    "le = LabelEncoder()\n",
    "frame[\"CİNSİYETİNİZ\"] = le.fit_transform(frame[\"CİNSİYETİNİZ\"])\n",
    "frame[\"YAŞ ARALIĞINIZ\"] = le.fit_transform(frame[\"YAŞ ARALIĞINIZ\"])\n",
    "frame[\"Depresyon Düzeyi\"] = le.fit_transform(frame[\"Depresyon Düzeyi\"])\n",
    "frame[\"Anksiyete Düzeyi\"] = le.fit_transform(frame[\"Anksiyete Düzeyi\"])\n",
    "\n",
    "\n",
    "\n",
    "\n",
    "#my_data = frame.drop([\"DEPRESYON SKORU\",\"ANKSİYETE SKORU\"],axis = 1)\n",
    "my_data_dep = frame.drop([\"Anksiyete Düzeyi\",\"ANKSİYETE SKORU\"],axis = 1)\n",
    "my_data_anx = frame.drop([\"Depresyon Düzeyi\",\"DEPRESYON SKORU\"],axis = 1)\n",
    "my_data_dep.head(7)\n",
    "\n",
    "frame\n"
   ]
  },
  {
   "cell_type": "code",
   "execution_count": 23,
   "metadata": {},
   "outputs": [
    {
     "data": {
      "text/html": [
       "<div>\n",
       "<style scoped>\n",
       "    .dataframe tbody tr th:only-of-type {\n",
       "        vertical-align: middle;\n",
       "    }\n",
       "\n",
       "    .dataframe tbody tr th {\n",
       "        vertical-align: top;\n",
       "    }\n",
       "\n",
       "    .dataframe thead th {\n",
       "        text-align: right;\n",
       "    }\n",
       "</style>\n",
       "<table border=\"1\" class=\"dataframe\">\n",
       "  <thead>\n",
       "    <tr style=\"text-align: right;\">\n",
       "      <th></th>\n",
       "      <th>CİNSİYETİNİZ</th>\n",
       "      <th>YAŞ ARALIĞINIZ</th>\n",
       "      <th>ANKSİYETE SKORU</th>\n",
       "      <th>Anksiyete Düzeyi</th>\n",
       "    </tr>\n",
       "  </thead>\n",
       "  <tbody>\n",
       "    <tr>\n",
       "      <th>0</th>\n",
       "      <td>1</td>\n",
       "      <td>1</td>\n",
       "      <td>17</td>\n",
       "      <td>2</td>\n",
       "    </tr>\n",
       "    <tr>\n",
       "      <th>1</th>\n",
       "      <td>0</td>\n",
       "      <td>1</td>\n",
       "      <td>33</td>\n",
       "      <td>3</td>\n",
       "    </tr>\n",
       "    <tr>\n",
       "      <th>2</th>\n",
       "      <td>2</td>\n",
       "      <td>1</td>\n",
       "      <td>3</td>\n",
       "      <td>1</td>\n",
       "    </tr>\n",
       "    <tr>\n",
       "      <th>3</th>\n",
       "      <td>2</td>\n",
       "      <td>3</td>\n",
       "      <td>20</td>\n",
       "      <td>2</td>\n",
       "    </tr>\n",
       "    <tr>\n",
       "      <th>4</th>\n",
       "      <td>2</td>\n",
       "      <td>1</td>\n",
       "      <td>22</td>\n",
       "      <td>2</td>\n",
       "    </tr>\n",
       "    <tr>\n",
       "      <th>5</th>\n",
       "      <td>2</td>\n",
       "      <td>1</td>\n",
       "      <td>35</td>\n",
       "      <td>3</td>\n",
       "    </tr>\n",
       "    <tr>\n",
       "      <th>6</th>\n",
       "      <td>1</td>\n",
       "      <td>1</td>\n",
       "      <td>20</td>\n",
       "      <td>2</td>\n",
       "    </tr>\n",
       "  </tbody>\n",
       "</table>\n",
       "</div>"
      ],
      "text/plain": [
       "   CİNSİYETİNİZ  YAŞ ARALIĞINIZ  ANKSİYETE SKORU  Anksiyete Düzeyi\n",
       "0             1               1               17                 2\n",
       "1             0               1               33                 3\n",
       "2             2               1                3                 1\n",
       "3             2               3               20                 2\n",
       "4             2               1               22                 2\n",
       "5             2               1               35                 3\n",
       "6             1               1               20                 2"
      ]
     },
     "execution_count": 23,
     "metadata": {},
     "output_type": "execute_result"
    }
   ],
   "source": [
    "my_data_anx.head(7)"
   ]
  },
  {
   "cell_type": "code",
   "execution_count": null,
   "metadata": {},
   "outputs": [],
   "source": []
  },
  {
   "cell_type": "code",
   "execution_count": null,
   "metadata": {},
   "outputs": [],
   "source": []
  },
  {
   "cell_type": "code",
   "execution_count": null,
   "metadata": {},
   "outputs": [],
   "source": []
  },
  {
   "cell_type": "code",
   "execution_count": null,
   "metadata": {},
   "outputs": [],
   "source": []
  },
  {
   "cell_type": "code",
   "execution_count": null,
   "metadata": {},
   "outputs": [],
   "source": []
  },
  {
   "cell_type": "code",
   "execution_count": null,
   "metadata": {},
   "outputs": [],
   "source": []
  },
  {
   "cell_type": "code",
   "execution_count": 24,
   "metadata": {},
   "outputs": [
    {
     "data": {
      "text/html": [
       "<div>\n",
       "<style scoped>\n",
       "    .dataframe tbody tr th:only-of-type {\n",
       "        vertical-align: middle;\n",
       "    }\n",
       "\n",
       "    .dataframe tbody tr th {\n",
       "        vertical-align: top;\n",
       "    }\n",
       "\n",
       "    .dataframe thead th {\n",
       "        text-align: right;\n",
       "    }\n",
       "</style>\n",
       "<table border=\"1\" class=\"dataframe\">\n",
       "  <thead>\n",
       "    <tr style=\"text-align: right;\">\n",
       "      <th></th>\n",
       "      <th>CİNSİYETİNİZ</th>\n",
       "      <th>YAŞ ARALIĞINIZ</th>\n",
       "      <th>DEPRESYON SKORU</th>\n",
       "      <th>Depresyon Düzeyi</th>\n",
       "      <th>ANKSİYETE SKORU</th>\n",
       "      <th>Anksiyete Düzeyi</th>\n",
       "    </tr>\n",
       "  </thead>\n",
       "  <tbody>\n",
       "    <tr>\n",
       "      <th>0</th>\n",
       "      <td>1</td>\n",
       "      <td>1</td>\n",
       "      <td>35</td>\n",
       "      <td>0</td>\n",
       "      <td>17</td>\n",
       "      <td>2</td>\n",
       "    </tr>\n",
       "    <tr>\n",
       "      <th>1</th>\n",
       "      <td>0</td>\n",
       "      <td>1</td>\n",
       "      <td>27</td>\n",
       "      <td>5</td>\n",
       "      <td>33</td>\n",
       "      <td>3</td>\n",
       "    </tr>\n",
       "    <tr>\n",
       "      <th>2</th>\n",
       "      <td>2</td>\n",
       "      <td>1</td>\n",
       "      <td>7</td>\n",
       "      <td>4</td>\n",
       "      <td>3</td>\n",
       "      <td>1</td>\n",
       "    </tr>\n",
       "    <tr>\n",
       "      <th>3</th>\n",
       "      <td>2</td>\n",
       "      <td>3</td>\n",
       "      <td>22</td>\n",
       "      <td>5</td>\n",
       "      <td>20</td>\n",
       "      <td>2</td>\n",
       "    </tr>\n",
       "    <tr>\n",
       "      <th>4</th>\n",
       "      <td>2</td>\n",
       "      <td>1</td>\n",
       "      <td>20</td>\n",
       "      <td>3</td>\n",
       "      <td>22</td>\n",
       "      <td>2</td>\n",
       "    </tr>\n",
       "  </tbody>\n",
       "</table>\n",
       "</div>"
      ],
      "text/plain": [
       "   CİNSİYETİNİZ  YAŞ ARALIĞINIZ  DEPRESYON SKORU  Depresyon Düzeyi  \\\n",
       "0             1               1               35                 0   \n",
       "1             0               1               27                 5   \n",
       "2             2               1                7                 4   \n",
       "3             2               3               22                 5   \n",
       "4             2               1               20                 3   \n",
       "\n",
       "   ANKSİYETE SKORU  Anksiyete Düzeyi  \n",
       "0               17                 2  \n",
       "1               33                 3  \n",
       "2                3                 1  \n",
       "3               20                 2  \n",
       "4               22                 2  "
      ]
     },
     "execution_count": 24,
     "metadata": {},
     "output_type": "execute_result"
    }
   ],
   "source": [
    "from sklearn import preprocessing\n",
    "from sklearn.preprocessing  import LabelEncoder,OneHotEncoder\n",
    "\n",
    "label_encoder  = preprocessing.LabelEncoder()\n",
    "onehotencoder  = OneHotEncoder()\n",
    "\n",
    "#frame[\"CİNSİYETİNİZ\"] = label_encoder.fit_transform(frame[\"CİNSİYETİNİZ\"])\n",
    "\n",
    "#frame.head()\n",
    "\n",
    "\"\"\"one = onehotencoder.fit_transform(frame[\"YAŞ ARALIĞINIZ\"].values.reshape(-1,1)).toarray()\n",
    "\n",
    "dfonehot = pd.DataFrame(one,columns =[\"18 ve altı\",\"19-29\",\"30-41\",\"42 ve üstü\"])\n",
    "\n",
    "\n",
    "                     \n",
    "one = dfonehot.astype(int)\n",
    "df4 = pd.concat([one,frame],axis = 1)\n",
    "df4 = df4.drop([\"YAŞ ARALIĞINIZ\"],axis = 1)\n",
    "\n",
    "\n",
    "one1 = onehotencoder.fit_transform(frame[\"CİNSİYETİNİZ\"].values.reshape(-1,1)).toarray()\n",
    "\n",
    "dfone1hot = pd.DataFrame(one1,columns = [\"BELİRTİLMEMİŞ\",\"ERKEK\",\"KADIN\"])\n",
    "one1 = dfone1hot.astype(int)                       \n",
    "df5  = pd.concat([one1,df4],axis = 1)\n",
    "\n",
    "                                                           \n",
    "df5 = df5.drop([\"CİNSİYETİNİZ\"],axis = 1)    \n",
    "\n",
    "last = df5\n",
    "last.head()\n",
    " \n",
    "    \n",
    "dfdep = onehotencoder.fit_transform(last[\"Depresyon Düzeyi\"].values.reshape(-1,1)).toarray()\n",
    "dfanx = onehotencoder.fit_transform(last[\"Anksiyete Düzeyi\"].values.reshape(-1,1)).toarray()\n",
    "\n",
    "df_dep  = pd.DataFrame(dfdep,columns = [\"CİDDİ DERECEDE DEPRESYON\",\"ÇOK ŞİDDETLİ DEPRESYON\",\"HAFİF DERECEDE DEPRESYON\",\"SINIR-SEVİYEDE DEPRESYON\",\"NORMAL DEPRESYON\",\"ORTA DERECEDE DEPRESYON\"])\n",
    "df_dep = df_dep.astype(int)\n",
    "#columns = [\"ÇOK ŞİDDETLİ\",\"CİDDİ DERECEDE\"]\n",
    "df_anx = pd.DataFrame(dfanx,columns = [\"HAFİF-DÜZEY ANKSİYETE\",\"MİNİMAL ANKSİYETE\",\"ORTA DÜZEY ANKSİYETE\",\"ŞİDDETLİ DÜZEY ANKSİYETE\"])\n",
    "df_anx = df_anx.astype(int)\n",
    "df_levels =  pd.concat([df_dep,df_anx],axis = 1)\n",
    "my_data_dep = pd.concat([last,df_dep],axis = 1)\n",
    "my_data_dep = my_data_dep.drop([\"Depresyon Düzeyi\",\"Anksiyete Düzeyi\",\"DEPRESYON SKORU\",\"ANKSİYETE SKORU\"],axis = 1)\n",
    "my_data_all = pd.concat([my_data_dep,df_anx],axis = 1)\n",
    "my_data_ank = my_data_all.drop([\"CİDDİ DERECEDE DEPRESYON\",\"ÇOK ŞİDDETLİ DEPRESYON\",\"HAFİF DERECEDE DEPRESYON\",\"SINIR-SEVİYEDE DEPRESYON\",\"NORMAL DEPRESYON\",\"ORTA DERECEDE DEPRESYON\"],axis=1)\n",
    "my_data_ank.head(8)\"\"\"\n",
    "\n",
    "frame.head()\n",
    "\n"
   ]
  },
  {
   "cell_type": "code",
   "execution_count": 25,
   "metadata": {},
   "outputs": [
    {
     "data": {
      "text/html": [
       "<div>\n",
       "<style scoped>\n",
       "    .dataframe tbody tr th:only-of-type {\n",
       "        vertical-align: middle;\n",
       "    }\n",
       "\n",
       "    .dataframe tbody tr th {\n",
       "        vertical-align: top;\n",
       "    }\n",
       "\n",
       "    .dataframe thead th {\n",
       "        text-align: right;\n",
       "    }\n",
       "</style>\n",
       "<table border=\"1\" class=\"dataframe\">\n",
       "  <thead>\n",
       "    <tr style=\"text-align: right;\">\n",
       "      <th></th>\n",
       "      <th>CİNSİYETİNİZ</th>\n",
       "      <th>YAŞ ARALIĞINIZ</th>\n",
       "      <th>DEPRESYON SKORU</th>\n",
       "      <th>Depresyon Düzeyi</th>\n",
       "    </tr>\n",
       "  </thead>\n",
       "  <tbody>\n",
       "    <tr>\n",
       "      <th>0</th>\n",
       "      <td>1</td>\n",
       "      <td>1</td>\n",
       "      <td>35</td>\n",
       "      <td>0</td>\n",
       "    </tr>\n",
       "    <tr>\n",
       "      <th>1</th>\n",
       "      <td>0</td>\n",
       "      <td>1</td>\n",
       "      <td>27</td>\n",
       "      <td>5</td>\n",
       "    </tr>\n",
       "    <tr>\n",
       "      <th>2</th>\n",
       "      <td>2</td>\n",
       "      <td>1</td>\n",
       "      <td>7</td>\n",
       "      <td>4</td>\n",
       "    </tr>\n",
       "    <tr>\n",
       "      <th>3</th>\n",
       "      <td>2</td>\n",
       "      <td>3</td>\n",
       "      <td>22</td>\n",
       "      <td>5</td>\n",
       "    </tr>\n",
       "    <tr>\n",
       "      <th>4</th>\n",
       "      <td>2</td>\n",
       "      <td>1</td>\n",
       "      <td>20</td>\n",
       "      <td>3</td>\n",
       "    </tr>\n",
       "    <tr>\n",
       "      <th>...</th>\n",
       "      <td>...</td>\n",
       "      <td>...</td>\n",
       "      <td>...</td>\n",
       "      <td>...</td>\n",
       "    </tr>\n",
       "    <tr>\n",
       "      <th>73</th>\n",
       "      <td>0</td>\n",
       "      <td>1</td>\n",
       "      <td>29</td>\n",
       "      <td>5</td>\n",
       "    </tr>\n",
       "    <tr>\n",
       "      <th>74</th>\n",
       "      <td>2</td>\n",
       "      <td>1</td>\n",
       "      <td>23</td>\n",
       "      <td>5</td>\n",
       "    </tr>\n",
       "    <tr>\n",
       "      <th>75</th>\n",
       "      <td>1</td>\n",
       "      <td>0</td>\n",
       "      <td>14</td>\n",
       "      <td>2</td>\n",
       "    </tr>\n",
       "    <tr>\n",
       "      <th>76</th>\n",
       "      <td>1</td>\n",
       "      <td>1</td>\n",
       "      <td>41</td>\n",
       "      <td>1</td>\n",
       "    </tr>\n",
       "    <tr>\n",
       "      <th>77</th>\n",
       "      <td>2</td>\n",
       "      <td>3</td>\n",
       "      <td>12</td>\n",
       "      <td>2</td>\n",
       "    </tr>\n",
       "  </tbody>\n",
       "</table>\n",
       "<p>78 rows × 4 columns</p>\n",
       "</div>"
      ],
      "text/plain": [
       "    CİNSİYETİNİZ  YAŞ ARALIĞINIZ  DEPRESYON SKORU  Depresyon Düzeyi\n",
       "0              1               1               35                 0\n",
       "1              0               1               27                 5\n",
       "2              2               1                7                 4\n",
       "3              2               3               22                 5\n",
       "4              2               1               20                 3\n",
       "..           ...             ...              ...               ...\n",
       "73             0               1               29                 5\n",
       "74             2               1               23                 5\n",
       "75             1               0               14                 2\n",
       "76             1               1               41                 1\n",
       "77             2               3               12                 2\n",
       "\n",
       "[78 rows x 4 columns]"
      ]
     },
     "execution_count": 25,
     "metadata": {},
     "output_type": "execute_result"
    }
   ],
   "source": [
    "my_data_dep"
   ]
  },
  {
   "cell_type": "code",
   "execution_count": 26,
   "metadata": {},
   "outputs": [],
   "source": [
    "X = my_data_dep.drop([\"Depresyon Düzeyi\"],axis = 1)    #bağımsız değişkenler\n",
    "X = X.values\n",
    "y = my_data_dep[\"Depresyon Düzeyi\"]  #bağımlı değişken\n",
    "\n"
   ]
  },
  {
   "cell_type": "code",
   "execution_count": 27,
   "metadata": {},
   "outputs": [
    {
     "data": {
      "text/plain": [
       "array([[-0.60084177, -0.11504136,  1.46155142],\n",
       "       [-0.60084177, -0.11504136,  1.46155142],\n",
       "       [-0.60084177, -0.11504136, -0.0875447 ],\n",
       "       [-0.60084177, -0.11504136,  0.85912515],\n",
       "       [-0.60084177,  1.21943847, -0.2596665 ],\n",
       "       [-0.60084177, -0.11504136, -1.55057994],\n",
       "       [-2.3432829 , -0.11504136,  0.34275978],\n",
       "       [-0.60084177, -1.4495212 , -0.94815366],\n",
       "       [-2.3432829 , -1.4495212 , -0.86209277],\n",
       "       [-0.60084177,  2.5539183 , -0.2596665 ],\n",
       "       [-0.60084177, -0.11504136,  1.37549053],\n",
       "       [ 1.14159936,  1.21943847, -1.03421456],\n",
       "       [ 1.14159936, -0.11504136, -1.55057994],\n",
       "       [-0.60084177,  2.5539183 ,  0.08457709],\n",
       "       [ 1.14159936, -0.11504136, -1.55057994],\n",
       "       [ 1.14159936, -0.11504136, -0.1736056 ],\n",
       "       [ 1.14159936,  2.5539183 , -0.2596665 ],\n",
       "       [ 1.14159936, -0.11504136,  1.63367321],\n",
       "       [-0.60084177, -0.11504136, -0.34572739],\n",
       "       [-2.3432829 ,  2.5539183 , -0.86209277]])"
      ]
     },
     "execution_count": 27,
     "metadata": {},
     "output_type": "execute_result"
    }
   ],
   "source": [
    "from sklearn.model_selection import train_test_split\n",
    "x_train,x_test,y_train,y_test = train_test_split(X,y,test_size = 0.25\n",
    "                                                 , random_state = 0)\n",
    "\n",
    "from sklearn.preprocessing import StandardScaler\n",
    "sc = StandardScaler()\n",
    "\n",
    "\n",
    "\n",
    "X_train = sc.fit_transform(x_train)\n",
    "X_test = sc.transform(x_test) \n",
    "X_test\n"
   ]
  },
  {
   "cell_type": "code",
   "execution_count": 28,
   "metadata": {},
   "outputs": [
    {
     "data": {
      "image/png": "[encoded data removed]",
      "text/plain": [
       "<Figure size 432x288 with 1 Axes>"
      ]
     },
     "metadata": {
      "needs_background": "light"
     },
     "output_type": "display_data"
    }
   ],
   "source": [
    "k_depresyon =my_data_dep.loc[:, [\"DEPRESYON SKORU\"]].values\n",
    "\n",
    "\n",
    "from sklearn.cluster import KMeans\n",
    "list  =  []\n",
    "\n",
    "for k in range(1,11):\n",
    "    kmeans = KMeans(n_clusters=k, init = \"k-means++\")\n",
    "    kmeans.fit(k_depresyon)\n",
    "    list.append(kmeans.inertia_)\n",
    "plt.figure()\n",
    "plt.grid()\n",
    "plt.plot(range(1,11),list, linewidth = 2, color = \"orange\" , marker = 8 )\n",
    "plt.xlabel(\"K degeri\")\n",
    "plt.ylabel(\"WCSS\")\n",
    "plt.show()"
   ]
  },
  {
   "cell_type": "code",
   "execution_count": 29,
   "metadata": {},
   "outputs": [
    {
     "data": {
      "image/png": "[encoded data removed]",
      "text/plain": [
       "<Figure size 576x396 with 2 Axes>"
      ]
     },
     "metadata": {},
     "output_type": "display_data"
    },
    {
     "data": {
      "text/plain": [
       "<matplotlib.axes._subplots.AxesSubplot at 0x208db560f48>"
      ]
     },
     "execution_count": 29,
     "metadata": {},
     "output_type": "execute_result"
    }
   ],
   "source": [
    "\n",
    "from yellowbrick.cluster import KElbowVisualizer\n",
    "kmeans = KMeans()\n",
    "visu = KElbowVisualizer(kmeans, k = (1,10))\n",
    "visu.fit(k_depresyon)\n",
    "visu.poof()"
   ]
  },
  {
   "cell_type": "code",
   "execution_count": 30,
   "metadata": {},
   "outputs": [
    {
     "data": {
      "text/plain": [
       "0.9743421052631579"
      ]
     },
     "execution_count": 30,
     "metadata": {},
     "output_type": "execute_result"
    }
   ],
   "source": [
    "from sklearn.model_selection import GridSearchCV\n",
    "from sklearn.neighbors import KNeighborsClassifier\n",
    "\n",
    "\n",
    "param_grid = {'n_neighbors': np.arange(2,13)}\n",
    "knn = KNeighborsClassifier()\n",
    "knn_cv= GridSearchCV(knn,param_grid,cv=4)\n",
    "knn_cv.fit(X,y)\n",
    "knn_cv.best_score_"
   ]
  },
  {
   "cell_type": "code",
   "execution_count": 31,
   "metadata": {},
   "outputs": [
    {
     "data": {
      "text/plain": [
       "{'n_neighbors': 3}"
      ]
     },
     "execution_count": 31,
     "metadata": {},
     "output_type": "execute_result"
    }
   ],
   "source": [
    "knn_cv.best_params_"
   ]
  },
  {
   "cell_type": "markdown",
   "metadata": {},
   "source": [
    "\n",
    "\n"
   ]
  },
  {
   "cell_type": "code",
   "execution_count": 32,
   "metadata": {},
   "outputs": [
    {
     "data": {
      "text/plain": [
       "0.75"
      ]
     },
     "execution_count": 32,
     "metadata": {},
     "output_type": "execute_result"
    }
   ],
   "source": [
    "from sklearn.neighbors import KNeighborsClassifier\n",
    "from sklearn.metrics import accuracy_score,classification_report\n",
    "knn = KNeighborsClassifier(n_neighbors=3,metric=\"minkowski\")   #euclidean ve manhattan  \n",
    "knn.fit(X_train,y_train)\n",
    "y_pred = knn.predict(X_test)\n",
    "y_pred\n",
    "accuracy_score(y_test,y_pred)"
   ]
  },
  {
   "cell_type": "code",
   "execution_count": 33,
   "metadata": {},
   "outputs": [
    {
     "data": {
      "text/plain": [
       "array([1, 1, 5, 0, 2, 4, 5, 2, 5, 5, 1, 5, 4, 5, 4, 5, 2, 5, 5, 2])"
      ]
     },
     "execution_count": 33,
     "metadata": {},
     "output_type": "execute_result"
    }
   ],
   "source": [
    "y_pred"
   ]
  },
  {
   "cell_type": "code",
   "execution_count": 34,
   "metadata": {},
   "outputs": [
    {
     "data": {
      "text/plain": [
       "49    1\n",
       "27    1\n",
       "30    5\n",
       "63    0\n",
       "45    5\n",
       "69    4\n",
       "73    5\n",
       "75    2\n",
       "48    2\n",
       "57    5\n",
       "40    1\n",
       "62    2\n",
       "2     4\n",
       "70    5\n",
       "56    4\n",
       "34    5\n",
       "3     5\n",
       "22    1\n",
       "7     5\n",
       "26    2\n",
       "Name: Depresyon Düzeyi, dtype: int32"
      ]
     },
     "execution_count": 34,
     "metadata": {},
     "output_type": "execute_result"
    }
   ],
   "source": [
    "y_test"
   ]
  },
  {
   "cell_type": "code",
   "execution_count": 35,
   "metadata": {},
   "outputs": [
    {
     "data": {
      "text/plain": [
       "array([[1, 0, 0, 0, 0],\n",
       "       [0, 3, 0, 0, 1],\n",
       "       [0, 0, 2, 0, 2],\n",
       "       [0, 0, 0, 3, 0],\n",
       "       [0, 0, 2, 0, 6]], dtype=int64)"
      ]
     },
     "execution_count": 35,
     "metadata": {},
     "output_type": "execute_result"
    }
   ],
   "source": [
    "from sklearn.metrics import confusion_matrix\n",
    "y_pred = knn.predict(X_test)\n",
    "cm_knn = confusion_matrix(y_test, y_pred)\n",
    "cm_knn"
   ]
  },
  {
   "cell_type": "code",
   "execution_count": 36,
   "metadata": {},
   "outputs": [
    {
     "data": {
      "text/plain": [
       "Text(43.0, 0.5, 'Truth')"
      ]
     },
     "execution_count": 36,
     "metadata": {},
     "output_type": "execute_result"
    },
    {
     "data": {
      "image/png": "[encoded data removed]",
      "text/plain": [
       "<Figure size 504x360 with 2 Axes>"
      ]
     },
     "metadata": {
      "needs_background": "light"
     },
     "output_type": "display_data"
    }
   ],
   "source": [
    "%matplotlib inline\n",
    "import matplotlib.pyplot as plt\n",
    "import seaborn as sn\n",
    "plt.figure(figsize=(7,5))\n",
    "sbn.heatmap(cm_knn, annot=True)\n",
    "plt.xlabel('Predicted')\n",
    "plt.ylabel('Truth')"
   ]
  },
  {
   "cell_type": "code",
   "execution_count": 37,
   "metadata": {},
   "outputs": [
    {
     "name": "stdout",
     "output_type": "stream",
     "text": [
      "              precision    recall  f1-score   support\n",
      "\n",
      "           0       1.00      1.00      1.00         1\n",
      "           1       1.00      0.75      0.86         4\n",
      "           2       0.50      0.50      0.50         4\n",
      "           4       1.00      1.00      1.00         3\n",
      "           5       0.67      0.75      0.71         8\n",
      "\n",
      "    accuracy                           0.75        20\n",
      "   macro avg       0.83      0.80      0.81        20\n",
      "weighted avg       0.77      0.75      0.75        20\n",
      "\n"
     ]
    }
   ],
   "source": [
    "from sklearn.metrics import classification_report\n",
    "\n",
    "print(classification_report(y_test, y_pred))"
   ]
  },
  {
   "cell_type": "code",
   "execution_count": 38,
   "metadata": {},
   "outputs": [
    {
     "data": {
      "text/plain": [
       "'from sklearn.model_selection import train_test_split\\nx_train,x_test,y_train,y_test=train_test_split(X,y,test_size = 0.33 ,random_state  = 8)\\n\\nfrom sklearn.preprocessing import StandardScaler\\nsc = StandardScaler()\\n\\nX_train = sc.fit_transform(x_train)\\nX_test = sc.transform(x_test)  \\n\\n\\n'"
      ]
     },
     "execution_count": 38,
     "metadata": {},
     "output_type": "execute_result"
    }
   ],
   "source": [
    "\"\"\"from sklearn.model_selection import train_test_split\n",
    "x_train,x_test,y_train,y_test=train_test_split(X,y,test_size = 0.33 ,random_state  = 8)\n",
    "\n",
    "from sklearn.preprocessing import StandardScaler\n",
    "sc = StandardScaler()\n",
    "\n",
    "X_train = sc.fit_transform(x_train)\n",
    "X_test = sc.transform(x_test)  \n",
    "\n",
    "\n",
    "\"\"\"\n"
   ]
  },
  {
   "cell_type": "code",
   "execution_count": 39,
   "metadata": {},
   "outputs": [
    {
     "data": {
      "text/plain": [
       "array([0, 0, 5, 0, 5, 2, 5, 2, 2, 5, 0, 2, 2, 5, 2, 5, 5, 0, 5, 5])"
      ]
     },
     "execution_count": 39,
     "metadata": {},
     "output_type": "execute_result"
    }
   ],
   "source": [
    "from sklearn.linear_model import LogisticRegression\n",
    "log_reg = LogisticRegression(random_state = 8)\n",
    "log_reg.fit(X_train,y_train.ravel())\n",
    "predict_log = log_reg.predict(X_test)\n",
    "predict_log"
   ]
  },
  {
   "cell_type": "code",
   "execution_count": 40,
   "metadata": {},
   "outputs": [
    {
     "data": {
      "text/plain": [
       "array([[1, 0, 0, 0, 0],\n",
       "       [4, 0, 0, 0, 0],\n",
       "       [0, 0, 3, 0, 1],\n",
       "       [0, 0, 3, 0, 0],\n",
       "       [0, 0, 0, 0, 8]], dtype=int64)"
      ]
     },
     "execution_count": 40,
     "metadata": {},
     "output_type": "execute_result"
    }
   ],
   "source": [
    "from sklearn.metrics import confusion_matrix\n",
    "cm_linear = confusion_matrix(y_test,predict_log)\n",
    "cm_linear"
   ]
  },
  {
   "cell_type": "code",
   "execution_count": 41,
   "metadata": {},
   "outputs": [
    {
     "data": {
      "text/plain": [
       "0.6"
      ]
     },
     "execution_count": 41,
     "metadata": {},
     "output_type": "execute_result"
    }
   ],
   "source": [
    "accuracy_score(y_test,predict_log)"
   ]
  },
  {
   "cell_type": "code",
   "execution_count": 42,
   "metadata": {},
   "outputs": [
    {
     "data": {
      "text/plain": [
       "0.9"
      ]
     },
     "execution_count": 42,
     "metadata": {},
     "output_type": "execute_result"
    }
   ],
   "source": [
    "from sklearn.svm import SVC\n",
    "model = SVC(kernel = 'linear')\n",
    "model.fit(X_train, y_train)\n",
    "model.score(X_test, y_test)           #rbf kernel i 0.69 sonuç vermişti.Bu yüzden linear kullandım.\n",
    "\n"
   ]
  },
  {
   "cell_type": "code",
   "execution_count": 43,
   "metadata": {},
   "outputs": [
    {
     "data": {
      "text/plain": [
       "array([[1, 0, 0, 0, 0],\n",
       "       [0, 4, 0, 0, 0],\n",
       "       [0, 0, 4, 0, 0],\n",
       "       [0, 0, 2, 1, 0],\n",
       "       [0, 0, 0, 0, 8]], dtype=int64)"
      ]
     },
     "execution_count": 43,
     "metadata": {},
     "output_type": "execute_result"
    }
   ],
   "source": [
    "from sklearn.metrics import confusion_matrix\n",
    "y_pred_svm = model.predict(X_test)\n",
    "cm_svm = confusion_matrix(y_test, y_pred_svm)\n",
    "cm_svm"
   ]
  },
  {
   "cell_type": "code",
   "execution_count": 44,
   "metadata": {},
   "outputs": [
    {
     "data": {
      "text/plain": [
       "0.9"
      ]
     },
     "execution_count": 44,
     "metadata": {},
     "output_type": "execute_result"
    }
   ],
   "source": [
    "accuracy_score(y_test,y_pred_svm)"
   ]
  },
  {
   "cell_type": "code",
   "execution_count": 45,
   "metadata": {},
   "outputs": [
    {
     "data": {
      "text/plain": [
       "Text(43.0, 0.5, 'Truth')"
      ]
     },
     "execution_count": 45,
     "metadata": {},
     "output_type": "execute_result"
    },
    {
     "data": {
      "image/png": "[encoded data removed]",
      "text/plain": [
       "<Figure size 504x360 with 2 Axes>"
      ]
     },
     "metadata": {
      "needs_background": "light"
     },
     "output_type": "display_data"
    }
   ],
   "source": [
    "%matplotlib inline\n",
    "import matplotlib.pyplot as plt\n",
    "import seaborn as sn\n",
    "plt.figure(figsize=(7,5))\n",
    "sbn.heatmap(cm_svm, annot=True)\n",
    "plt.xlabel('Predicted')\n",
    "plt.ylabel('Truth')"
   ]
  },
  {
   "cell_type": "code",
   "execution_count": 63,
   "metadata": {},
   "outputs": [
    {
     "name": "stdout",
     "output_type": "stream",
     "text": [
      "              precision    recall  f1-score   support\n",
      "\n",
      "           0       1.00      1.00      1.00         1\n",
      "           1       1.00      1.00      1.00         4\n",
      "           2       0.67      1.00      0.80         4\n",
      "           4       1.00      0.33      0.50         3\n",
      "           5       1.00      1.00      1.00         8\n",
      "\n",
      "    accuracy                           0.90        20\n",
      "   macro avg       0.93      0.87      0.86        20\n",
      "weighted avg       0.93      0.90      0.89        20\n",
      "\n"
     ]
    }
   ],
   "source": [
    "from sklearn.metrics import classification_report\n",
    "\n",
    "print(classification_report(y_test, y_pred_svm))\n"
   ]
  },
  {
   "cell_type": "markdown",
   "metadata": {},
   "source": [
    "\n",
    "\n",
    "ANKSİYETE  TESPİTİ\n",
    "\n"
   ]
  },
  {
   "cell_type": "code",
   "execution_count": null,
   "metadata": {},
   "outputs": [],
   "source": []
  },
  {
   "cell_type": "code",
   "execution_count": null,
   "metadata": {},
   "outputs": [],
   "source": []
  },
  {
   "cell_type": "code",
   "execution_count": 46,
   "metadata": {},
   "outputs": [],
   "source": [
    "X1 = my_data_anx.drop([\"Anksiyete Düzeyi\"],axis = 1 ) \n",
    "y1 = my_data_anx[\"Anksiyete Düzeyi\"]\n",
    "\n",
    "\n",
    "\n"
   ]
  },
  {
   "cell_type": "code",
   "execution_count": 47,
   "metadata": {},
   "outputs": [
    {
     "data": {
      "text/plain": [
       "array([[-0.60084177, -0.11504136,  0.53638357],\n",
       "       [-0.60084177, -0.11504136,  0.53638357],\n",
       "       [-0.60084177, -0.11504136, -0.46933562],\n",
       "       [-0.60084177, -0.11504136,  0.        ],\n",
       "       [-0.60084177,  1.21943847, -0.40228768],\n",
       "       [-0.60084177, -0.11504136, -1.34095892],\n",
       "       [-2.3432829 , -0.11504136, -0.33523973],\n",
       "       [-0.60084177, -1.4495212 , -0.06704795],\n",
       "       [-2.3432829 , -1.4495212 , -0.53638357],\n",
       "       [-0.60084177,  2.5539183 ,  0.        ],\n",
       "       [-0.60084177, -0.11504136,  0.20114384],\n",
       "       [ 1.14159936,  1.21943847,  1.00571919],\n",
       "       [ 1.14159936, -0.11504136, -1.13981508],\n",
       "       [-0.60084177,  2.5539183 , -1.00571919],\n",
       "       [ 1.14159936, -0.11504136, -1.13981508],\n",
       "       [ 1.14159936, -0.11504136, -0.46933562],\n",
       "       [ 1.14159936,  2.5539183 ,  0.        ],\n",
       "       [ 1.14159936, -0.11504136,  1.40800687],\n",
       "       [-0.60084177, -0.11504136, -0.53638357],\n",
       "       [-2.3432829 ,  2.5539183 , -0.53638357]])"
      ]
     },
     "execution_count": 47,
     "metadata": {},
     "output_type": "execute_result"
    }
   ],
   "source": [
    "from sklearn.model_selection import train_test_split\n",
    "x_train1,x_test1,y_train1,y_test1 = train_test_split(X1,y1,test_size = 0.25, random_state = 0)\n",
    "\n",
    "from sklearn.preprocessing import StandardScaler\n",
    "sc1 = StandardScaler()\n",
    "\n",
    "\n",
    "\n",
    "X_train1 = sc1.fit_transform(x_train1)\n",
    "X_test1 = sc1.transform(x_test1) \n",
    "X_test1"
   ]
  },
  {
   "cell_type": "code",
   "execution_count": null,
   "metadata": {},
   "outputs": [],
   "source": []
  },
  {
   "cell_type": "code",
   "execution_count": 48,
   "metadata": {},
   "outputs": [
    {
     "data": {
      "image/png": "[encoded data removed]",
      "text/plain": [
       "<Figure size 432x288 with 1 Axes>"
      ]
     },
     "metadata": {
      "needs_background": "light"
     },
     "output_type": "display_data"
    }
   ],
   "source": [
    "k_anksiyete = my_data_anx.loc[:, [\"ANKSİYETE SKORU\"]].values\n",
    "\n",
    "\n",
    "from sklearn.cluster import KMeans\n",
    "list  =  []\n",
    "\n",
    "for k in range(1,11):\n",
    "    kmeans = KMeans(n_clusters=k, init = \"k-means++\")\n",
    "    kmeans.fit(k_anksiyete)\n",
    "    list.append(kmeans.inertia_)\n",
    "plt.figure()\n",
    "plt.grid()\n",
    "plt.plot(range(1,11),list, linewidth = 2, color = \"orange\" , marker = 8 )\n",
    "plt.xlabel(\"K degeri\")\n",
    "plt.ylabel(\"WCSS\")\n",
    "plt.show()"
   ]
  },
  {
   "cell_type": "code",
   "execution_count": 49,
   "metadata": {},
   "outputs": [
    {
     "data": {
      "image/png": "[encoded data removed]",
      "text/plain": [
       "<Figure size 432x288 with 2 Axes>"
      ]
     },
     "metadata": {},
     "output_type": "display_data"
    },
    {
     "data": {
      "text/plain": [
       "<matplotlib.axes._subplots.AxesSubplot at 0x208db92d148>"
      ]
     },
     "execution_count": 49,
     "metadata": {},
     "output_type": "execute_result"
    }
   ],
   "source": [
    "from yellowbrick.cluster import KElbowVisualizer\n",
    "kmeans = KMeans()\n",
    "visu = KElbowVisualizer(kmeans, k = (1,11))\n",
    "visu.fit(k_anksiyete)\n",
    "visu.poof()"
   ]
  },
  {
   "cell_type": "code",
   "execution_count": 50,
   "metadata": {},
   "outputs": [
    {
     "data": {
      "text/plain": [
       "0.85"
      ]
     },
     "execution_count": 50,
     "metadata": {},
     "output_type": "execute_result"
    }
   ],
   "source": [
    "from sklearn.neighbors import KNeighborsClassifier\n",
    "from sklearn.metrics import accuracy_score,classification_report\n",
    "knn = KNeighborsClassifier(n_neighbors=3,metric=\"minkowski\")   \n",
    "knn.fit(X_train1,y_train1)\n",
    "y_pred1 = knn.predict(X_test1)\n",
    "y_pred1\n",
    "accuracy_score(y_test1,y_pred1)"
   ]
  },
  {
   "cell_type": "code",
   "execution_count": 51,
   "metadata": {},
   "outputs": [
    {
     "data": {
      "text/plain": [
       "array([3, 3, 0, 2, 0, 1, 0, 2, 0, 0, 2, 2, 1, 1, 1, 1, 2, 3, 0, 0])"
      ]
     },
     "execution_count": 51,
     "metadata": {},
     "output_type": "execute_result"
    }
   ],
   "source": [
    "y_pred1"
   ]
  },
  {
   "cell_type": "code",
   "execution_count": 52,
   "metadata": {},
   "outputs": [
    {
     "data": {
      "text/plain": [
       "49    3\n",
       "27    3\n",
       "30    0\n",
       "63    2\n",
       "45    0\n",
       "69    1\n",
       "73    0\n",
       "75    2\n",
       "48    0\n",
       "57    2\n",
       "40    2\n",
       "62    3\n",
       "2     1\n",
       "70    1\n",
       "56    1\n",
       "34    0\n",
       "3     2\n",
       "22    3\n",
       "7     0\n",
       "26    0\n",
       "Name: Anksiyete Düzeyi, dtype: int32"
      ]
     },
     "execution_count": 52,
     "metadata": {},
     "output_type": "execute_result"
    }
   ],
   "source": [
    "y_test1"
   ]
  },
  {
   "cell_type": "code",
   "execution_count": 53,
   "metadata": {},
   "outputs": [
    {
     "data": {
      "text/plain": [
       "array([[6, 1, 0, 0],\n",
       "       [0, 4, 0, 0],\n",
       "       [1, 0, 4, 0],\n",
       "       [0, 0, 1, 3]], dtype=int64)"
      ]
     },
     "execution_count": 53,
     "metadata": {},
     "output_type": "execute_result"
    }
   ],
   "source": [
    "from sklearn.metrics import confusion_matrix\n",
    "y_pred_knn_1 = knn.predict(X_test1)\n",
    "cm1_knn = confusion_matrix(y_test1, y_pred_knn_1)\n",
    "cm1_knn"
   ]
  },
  {
   "cell_type": "code",
   "execution_count": 54,
   "metadata": {},
   "outputs": [
    {
     "data": {
      "text/plain": [
       "Text(43.0, 0.5, 'Truth')"
      ]
     },
     "execution_count": 54,
     "metadata": {},
     "output_type": "execute_result"
    },
    {
     "data": {
      "image/png": "[encoded data removed]",
      "text/plain": [
       "<Figure size 504x360 with 2 Axes>"
      ]
     },
     "metadata": {
      "needs_background": "light"
     },
     "output_type": "display_data"
    }
   ],
   "source": [
    "%matplotlib inline\n",
    "plt.figure(figsize=(7,5))\n",
    "sbn.heatmap(cm1_knn, annot=True)\n",
    "plt.xlabel('Predicted')\n",
    "plt.ylabel('Truth')"
   ]
  },
  {
   "cell_type": "code",
   "execution_count": 55,
   "metadata": {},
   "outputs": [
    {
     "name": "stdout",
     "output_type": "stream",
     "text": [
      "              precision    recall  f1-score   support\n",
      "\n",
      "           0       0.86      0.86      0.86         7\n",
      "           1       0.80      1.00      0.89         4\n",
      "           2       0.80      0.80      0.80         5\n",
      "           3       1.00      0.75      0.86         4\n",
      "\n",
      "    accuracy                           0.85        20\n",
      "   macro avg       0.86      0.85      0.85        20\n",
      "weighted avg       0.86      0.85      0.85        20\n",
      "\n"
     ]
    }
   ],
   "source": [
    "from sklearn.metrics import classification_report\n",
    "\n",
    "print(classification_report(y_test1, y_pred_knn_1))"
   ]
  },
  {
   "cell_type": "code",
   "execution_count": 56,
   "metadata": {},
   "outputs": [
    {
     "data": {
      "text/plain": [
       "array([5, 5, 5, 5, 5, 2, 5, 5, 2, 5, 5, 0, 2, 2, 2, 5, 5, 0, 2, 5])"
      ]
     },
     "execution_count": 56,
     "metadata": {},
     "output_type": "execute_result"
    }
   ],
   "source": [
    "from sklearn.linear_model import LogisticRegression\n",
    "log_reg_1 = LogisticRegression(random_state = 85)\n",
    "log_reg_1.fit(X_train1,y_train1.ravel())\n",
    "predict_log_1 = log_reg.predict(X_test1)\n",
    "predict_log_1\n"
   ]
  },
  {
   "cell_type": "code",
   "execution_count": 57,
   "metadata": {},
   "outputs": [
    {
     "data": {
      "text/plain": [
       "array([[6, 1, 0, 0],\n",
       "       [0, 4, 0, 0],\n",
       "       [1, 0, 4, 0],\n",
       "       [0, 0, 1, 3]], dtype=int64)"
      ]
     },
     "execution_count": 57,
     "metadata": {},
     "output_type": "execute_result"
    }
   ],
   "source": [
    "from sklearn.metrics import confusion_matrix\n",
    "y_pred_linear_1 = knn.predict(X_test1)\n",
    "cm1_linear = confusion_matrix(y_test1,y_pred_linear_1)\n",
    "cm1_linear"
   ]
  },
  {
   "cell_type": "code",
   "execution_count": 58,
   "metadata": {},
   "outputs": [
    {
     "data": {
      "text/plain": [
       "0.85"
      ]
     },
     "execution_count": 58,
     "metadata": {},
     "output_type": "execute_result"
    }
   ],
   "source": [
    "accuracy_score(y_test1,y_pred_linear_1)"
   ]
  },
  {
   "cell_type": "code",
   "execution_count": 66,
   "metadata": {},
   "outputs": [
    {
     "name": "stdout",
     "output_type": "stream",
     "text": [
      "              precision    recall  f1-score   support\n",
      "\n",
      "           0       0.86      0.86      0.86         7\n",
      "           1       0.80      1.00      0.89         4\n",
      "           2       0.80      0.80      0.80         5\n",
      "           3       1.00      0.75      0.86         4\n",
      "\n",
      "    accuracy                           0.85        20\n",
      "   macro avg       0.86      0.85      0.85        20\n",
      "weighted avg       0.86      0.85      0.85        20\n",
      "\n"
     ]
    }
   ],
   "source": [
    "from sklearn.metrics import classification_report\n",
    "\n",
    "print(classification_report(y_test1, y_pred_linear_1))\n",
    "\n"
   ]
  },
  {
   "cell_type": "code",
   "execution_count": 59,
   "metadata": {},
   "outputs": [
    {
     "data": {
      "text/plain": [
       "0.95"
      ]
     },
     "execution_count": 59,
     "metadata": {},
     "output_type": "execute_result"
    }
   ],
   "source": [
    "from  sklearn.svm import SVC\n",
    "model1 = SVC(kernel = 'linear')\n",
    "model1.fit(X_train1, y_train1)\n",
    "model1.score(X_test1, y_test1)     "
   ]
  },
  {
   "cell_type": "code",
   "execution_count": 60,
   "metadata": {},
   "outputs": [
    {
     "data": {
      "text/plain": [
       "array([[7, 0, 0, 0],\n",
       "       [0, 4, 0, 0],\n",
       "       [1, 0, 4, 0],\n",
       "       [0, 0, 0, 4]], dtype=int64)"
      ]
     },
     "execution_count": 60,
     "metadata": {},
     "output_type": "execute_result"
    }
   ],
   "source": [
    "from sklearn.metrics import confusion_matrix\n",
    "y_pred_svm_1 = model1.predict(X_test1)\n",
    "cm_svm_1= confusion_matrix(y_test1, y_pred_svm_1)\n",
    "cm_svm_1"
   ]
  },
  {
   "cell_type": "code",
   "execution_count": 61,
   "metadata": {},
   "outputs": [
    {
     "data": {
      "text/plain": [
       "0.95"
      ]
     },
     "execution_count": 61,
     "metadata": {},
     "output_type": "execute_result"
    }
   ],
   "source": [
    "accuracy_score(y_test1,y_pred_svm_1)"
   ]
  },
  {
   "cell_type": "code",
   "execution_count": 62,
   "metadata": {
    "scrolled": false
   },
   "outputs": [
    {
     "name": "stdout",
     "output_type": "stream",
     "text": [
      "              precision    recall  f1-score   support\n",
      "\n",
      "           0       0.88      1.00      0.93         7\n",
      "           1       1.00      1.00      1.00         4\n",
      "           2       1.00      0.80      0.89         5\n",
      "           3       1.00      1.00      1.00         4\n",
      "\n",
      "    accuracy                           0.95        20\n",
      "   macro avg       0.97      0.95      0.96        20\n",
      "weighted avg       0.96      0.95      0.95        20\n",
      "\n"
     ]
    }
   ],
   "source": [
    "from sklearn.metrics import classification_report\n",
    "\n",
    "print(classification_report(y_test1, y_pred_svm_1))"
   ]
  },
  {
   "cell_type": "code",
   "execution_count": null,
   "metadata": {},
   "outputs": [],
   "source": []
  },
  {
   "cell_type": "code",
   "execution_count": null,
   "metadata": {},
   "outputs": [],
   "source": []
  },
  {
   "cell_type": "code",
   "execution_count": null,
   "metadata": {},
   "outputs": [],
   "source": [
    "\n",
    "\n",
    "\n",
    "    \n",
    "    \n",
    "    "
   ]
  },
  {
   "cell_type": "code",
   "execution_count": null,
   "metadata": {},
   "outputs": [],
   "source": []
  },
  {
   "cell_type": "code",
   "execution_count": null,
   "metadata": {},
   "outputs": [],
   "source": []
  },
  {
   "cell_type": "code",
   "execution_count": null,
   "metadata": {},
   "outputs": [],
   "source": []
  },
  {
   "cell_type": "code",
   "execution_count": null,
   "metadata": {},
   "outputs": [],
   "source": []
  }
 ],
 "metadata": {
  "kernelspec": {
   "display_name": "Python 3",
   "language": "python",
   "name": "python3"
  },
  "language_info": {
   "codemirror_mode": {
    "name": "ipython",
    "version": 3
   },
   "file_extension": ".py",
   "mimetype": "text/x-python",
   "name": "python",
   "nbconvert_exporter": "python",
   "pygments_lexer": "ipython3",
   "version": "3.7.6"
  }
 },
 "nbformat": 4,
 "nbformat_minor": 4
}
